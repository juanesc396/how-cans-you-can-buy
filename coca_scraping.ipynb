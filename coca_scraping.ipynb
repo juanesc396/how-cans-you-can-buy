{
 "cells": [
  {
   "cell_type": "code",
   "execution_count": 1,
   "id": "30140706",
   "metadata": {},
   "outputs": [],
   "source": [
    "import pandas as pd\n",
    "import requests\n",
    "from lxml import html\n",
    "from bs4 import BeautifulSoup\n",
    "import json\n",
    "import re\n",
    "import os\n",
    "import datetime"
   ]
  },
  {
   "cell_type": "code",
   "execution_count": 2,
   "id": "315fa999",
   "metadata": {},
   "outputs": [],
   "source": [
    "headers = {\n",
    "\"User-Agent\": \"Mozilla/5.0 (Windows NT 10.0; Win64; x64) AppleWebKit/537.36 (KHTML, like Gecko) Chrome/100.0.4896.127 Safari/537.36\"\n",
    "}   "
   ]
  },
  {
   "cell_type": "code",
   "execution_count": 3,
   "id": "d4e88a14",
   "metadata": {},
   "outputs": [
    {
     "data": {
      "text/plain": [
       "122.0"
      ]
     },
     "execution_count": 3,
     "metadata": {},
     "output_type": "execute_result"
    }
   ],
   "source": [
    "response = requests.get('https://www.masonline.com.ar/gaseosa-coca-cola-sabor-original-354-ml/p', headers = headers)\n",
    "data = html.fromstring(response.content)\n",
    "price_arg = data.xpath('//span[@class=\"vtex-store-components-3-x-sellingPrice vtex-store-components-3-x-sellingPriceValue t-heading-2-s dib ph2 vtex-store-components-3-x-price_sellingPrice\"]/span[@class=\"vtex-store-components-3-x-currencyContainer\"]/descendant::span/text()')\n",
    "price_arg = float(price_arg[2]+'.'+price_arg[4])\n",
    "price_arg"
   ]
  },
  {
   "cell_type": "code",
   "execution_count": 4,
   "id": "583550af",
   "metadata": {
    "scrolled": true
   },
   "outputs": [
    {
     "data": {
      "text/plain": [
       "3.45"
      ]
     },
     "execution_count": 4,
     "metadata": {},
     "output_type": "execute_result"
    }
   ],
   "source": [
    "response = requests.get('https://www.clubeextra.com.br/produto/116609/coca-cola-sabor-original-lata-350ml', headers = headers)\n",
    "data = html.fromstring(response.content)\n",
    "price_bra = data.xpath('//div[@class=\"current-pricesectionstyles__CurrentPrice-sc-17j9p6i-0 drikI\"]/p/text()')\n",
    "price_bra = float(price_bra[0].strip(r'R$ ').replace(',','.'))\n",
    "price_bra"
   ]
  },
  {
   "cell_type": "code",
   "execution_count": 5,
   "id": "c34634fc",
   "metadata": {
    "scrolled": false
   },
   "outputs": [
    {
     "data": {
      "text/plain": [
       "5.98"
      ]
     },
     "execution_count": 5,
     "metadata": {},
     "output_type": "execute_result"
    }
   ],
   "source": [
    "cookies = {\n",
    "    'walmart.shippingPostalCode': 'L5V2N6',\n",
    "    'defaultNearestStoreId': '1061',\n",
    "    'localStoreInfo': 'eyJsb2NhbFN0b3JlSWQiOiIxMDYxIiwic2VsZWN0ZWRTdG9yZUlkIjoiMTA2MSIsInBvc3RhbENvZGUiOiJMNVYyTjYiLCJzZWxlY3RlZFN0b3JlTmFtZSI6IkhlYXJ0bGFuZCBTdXBlcmNlbnRyZSIsImZ1bGZpbGxtZW50U3RvcmVJZCI6IjEwNjEiLCJmdWxmaWxsbWVudFR5cGUiOiJJTlNUT1JFX1BJQ0tVUCIsImFzc2lnbmVkRmFsbGJhY2siOnRydWV9',\n",
    "    'walmart.preferredstore': '1061',\n",
    "    'walmart.csrf': 'cbcc9d325ff732e2b7df9615',\n",
    "    'vtc': 'Sc7KhvDu8dXdQ3oJ8gMfS0',\n",
    "    'userSegment': '10-percent',\n",
    "    'wmt.breakpoint': 'd',\n",
    "    'TBV': '7',\n",
    "    'walmart.nearestPostalCode': 'L5V2N6',\n",
    "    'walmart.nearestLatLng': '\"43.60822,-79.69387\"',\n",
    "    'walmart.id': '0ac0c397-31a7-41fc-8cc1-2cb9501b6d86',\n",
    "    '_pxvid': '57da3f51-c623-11ec-b6db-475571737755',\n",
    "    'pxcts': '57da4b68-c623-11ec-b6db-475571737755',\n",
    "    '_scid': '12572b22-c759-44f3-84fd-1cd7964530bb',\n",
    "    '_ga': 'GA1.2.1086732282.1651061563',\n",
    "    '_gcl_au': '1.1.309908354.1651061563',\n",
    "    '_cs_c': '1',\n",
    "    'AMCVS_C4C6370453309C960A490D44%40AdobeOrg': '1',\n",
    "    '_4c_': '%7B%22_4c_mc_%22%3A%223a90c448-09bf-490f-a379-473fd3850988%22%7D',\n",
    "    's_ecid': 'MCMID%7C41897018265937067883377010096261524000',\n",
    "    'DYN_USER_ID': '876a9ee5-90f4-40b0-809f-80486072a7ee',\n",
    "    'WM_SEC.AUTH_TOKEN': 'MTAyOTYyMDE4Qua7AZDVOvbhshC3awCcSlbdWaRvXq27+TXXJ/f+/lExaU+v5FSLdiOIGqK0a4wmqq2LJxF/luNp81CV3+r2j32U+wKMLX3BeFje/9hJnLWY82aSwEYhoA9Ft6jsYJZOj8OFN4dileb20bpDLeCIlSFd/Hsc7bnSe4+TLU2zbj3NXZI73M3Oydez6OlOjKQrB5QecGUpZU5IZRQ4WKMegVWsv0pzJjLdDAyIHKVC8uDb/SoGFgAYL9DGZ8K45WCXM/FHGZ2dCNmxWrdkwqEKrkzFXeKGmCkxmcFHdtahqoPFmQYT+vNNSM8yfVCDe8JEX0dK7v1Lg3o1RfFrgZKt2yKphzk8+BlJ4f9+hOEI9INN9Qz5fL1ClvEPI6AGRCS1rkyb7DnHViveZvNVhWPTa0r1eX9YGQ0laieVMoEr348=',\n",
    "    'LT': '1651061564765',\n",
    "    'DYN_USER_ID.ro': '876a9ee5-90f4-40b0-809f-80486072a7ee',\n",
    "    'cartId': '4de02953-ceae-420f-bd29-65be72d9e685',\n",
    "    's_cc': 'true',\n",
    "    '_pin_unauth': 'dWlkPVpEUmlOR1F6WlRrdFpEVXlPUzAwT0RRMkxUbGxOV1V0WmpkaU1HUTFaR1U0WlRSaw',\n",
    "    'deliveryCatchment': '1061',\n",
    "    '_cs_cvars': '%7B%221%22%3A%5B%22appName%22%2C%22product-page%22%5D%7D',\n",
    "    'cookiePolicy': 'true',\n",
    "    'NEXT_GEN.ENABLED': '1',\n",
    "    '_gid': 'GA1.2.1903489578.1651498345',\n",
    "    'TS017d5bf6': '01538efd7c9f8ed5c9d2872ab4d5e25f75ed3d54ecbca213ea891bb94d4a938720bcc80c0943f6226b8c8d6931aff97f1be9a8c2bf',\n",
    "    'TS01170c9f': '01538efd7c9f8ed5c9d2872ab4d5e25f75ed3d54ecbca213ea891bb94d4a938720bcc80c0943f6226b8c8d6931aff97f1be9a8c2bf',\n",
    "    'ENV': 'ak-scus-t1-prod',\n",
    "    'xpa': '19dFv|1_MKt|3N4Sf|7Xi3l|8C3ux|8PDcT|9noop|D9LOQ|EF9Bs|H33MR|H67lQ|HRTLp|I9Jw3|II82a|IVqRT|IrVZL|JoXRc|KeAz7|LI1tD|LVSOt|MPTAC|MbHLZ|MuE7d|NOaJP|NPyyt|OVStb|P5VeN|Qgnpc|T4DD-|U6IJS|VaEfK|W-D6M|WLR40|bQRVI|cFFZi|htzpo|jeBOs|kueBQ|mOlOu|oxsiU|qN5fi|seHke|t02pM|uihH8|vm9yl|wQ2KF|wlDrJ|yAFBx|zN5PS',\n",
    "    'exp-ck': '19dFv11_MKt67Xi3l18C3ux38PDcT19noop1D9LOQ2EF9Bs1H33MR1H67lQ6I9Jw31II82a5IVqRT1IrVZL1JoXRc1KeAz71LI1tD1MPTACpMbHLZ1MuE7d1NPyyt4OVStb1Qgnpc8T4DD-4U6IJS3VaEfK1htzpo1kueBQ1oxsiU1seHke1t02pM1uihH81vm9yl1wQ2KF1wlDrJ1yAFBx1zN5PS1',\n",
    "    'bstc': 'QJvUOhXiZvuIyVEAKc_OJI',\n",
    "    'ak_bmsc': '21A48A0D1CF4FA3226D3F1ADF9AC1CD4~000000000000000000000000000000~YAAQBCj3SEKHZYyAAQAAjfv3jw/6D+HbdJHsvzcqnp1/gQNYuSdFj7RkEW7NjtQua2Ch52OngT4bnkOmuNLrpA2+FcvSqwR9yH//FYUwBA9KWn9E7BjIfLczjvouyvdSALzwOWZwDJN7EJudMvvrZ08JsiTVCxtPcX/Il+sZ8gC61cZxyjspLpn9O6hZDQ9QM4/mzUWGfAM7Uo60E6X/2rQnEivEIBMePCjNGBQ8sOgjuYIn6+QCD7tBbc4hw3wIQNNhxCWs7cCfVAw/jtSdcToyCxtvDx7qFev5l/opgRGdm3aghkqQChPWnywJyJacERoU+RHDEsfUqjp/qqQwHrrpundSCSj/j6KiBf4Ecx7NkePw++vNg/gFvDcQhnB2K0bdnBbivfb9iOc=',\n",
    "    'xpm': '1%2B1651682835%2BSc7KhvDu8dXdQ3oJ8gMfS0~%2B0',\n",
    "    '_cs_mk_aa': '0.2200864858992928_1651682834581',\n",
    "    's_visit': '1',\n",
    "    'AMCV_C4C6370453309C960A490D44%40AdobeOrg': '-1124106680%7CMCIDTS%7C19117%7CMCMID%7C41897018265937067883377010096261524000%7CMCAAMLH-1652287634%7C4%7CMCAAMB-1652287634%7CRKhpRz8krg2tLO6pguXWp5olkAcUniQYPHaMWWgdJ3xzPWQmdj0y%7CMCOPTOUT-1651690034s%7CNONE%7CMCAID%7CNONE%7CvVersion%7C5.2.0',\n",
    "    'kndctr_C4C6370453309C960A490D44_AdobeOrg_identity': 'CiY0MTg5NzAxODI2NTkzNzA2Nzg4MzM3NzAxMDA5NjI2MTUyNDAwMFIOCMjVwNeGMBgBKgNWQTbwAbiD4P-IMA==',\n",
    "    'wmt.c': '0',\n",
    "    'TS0196c61b': '01538efd7ce1993e1993dbc5c29d9a052ccd49bfd719ef5d42a1bcb2633811963357f814c7618acb217ebfb0598bf2c85b2102cc2b',\n",
    "    'headerType': 'whiteGM',\n",
    "    'BVBRANDID': '7ea139f1-b1be-41a9-a2cb-2faebff8678b',\n",
    "    'BVBRANDSID': '75c2e89f-2ad6-4e09-a3d5-8cc3b8d9687c',\n",
    "    'WM.USER_STATE': 'GUEST|Guest',\n",
    "    '_gat': '1',\n",
    "    'authDuration': '{\"lat\":\"1651684477947000\",\"lt\":\"1651684477947000\"}',\n",
    "    '_cs_id': '9f248fb8-533b-ad05-f35a-589a3af5c2ff.1651061563.16.1651684476.1651682834.1.1685225563375',\n",
    "    '_cs_s': '6.0.0.1651686276461',\n",
    "    's_sq': '%5B%5BB%5D%5D',\n",
    "    'gpv_Page': 'Bot%20Protection%20Page',\n",
    "    '_uetsid': 'ae54a5a0cbcd11ec84501751fa9005e3',\n",
    "    '_uetvid': '57330360c62311ec959cf77501e77997',\n",
    "    'cto_bundle': 'uJzKyF9QTXV4R3pleTdvQnRLaGFMYW9rU1F5Y1RZclcyYTMwUzVMdiUyQmpVV05mJTJGaDdpTEdTTiUyQmo0NDAyJTJGS1J0TlY3WmNXQjc5NG9qSmY3OW5zR0VDdm1Xd2hsJTJCR3k3MkZSQWswVkM4SGM3Qmowb0RvVVZKVXRZUzBlUUZheWk0bkRpRU4yNnglMkYlMkY3RzVyc2RlYTAwYkZlbXQlMkJRJTNEJTNE',\n",
    "    '_derived_epik': 'dj0yJnU9d3hiSnZUQnJWTkU2Mzgtck9VdURqdEhkdWFrRy1pMWsmbj1EN05zc25lUmVwOVN6ZWRGNkwybWV3Jm09MSZ0PUFBQUFBR0p5dElFJnJtPTEmcnQ9QUFBQUFHSnl0SUU',\n",
    "    '_pxff_fp': '1',\n",
    "    '_pxff_rf': '1',\n",
    "    '_sctr': '1|1651633200000',\n",
    "    '_px3': '2915811dca89622257af1caa2372b3f64c759d00fda2c5fb5974984b00138991:BWksfaJ3cgTHni2W8stwSEsVYJWcrjpQGzl6KgkkxGmaG9wotRSjCDIUMBVktTctW/KAZsiJBivWdmO7uzS6MA==:1000:X32GQXZrH5vpYEZP+RIqBuIzG+5IMZP3PTJA7pf1+zVdO7qsm2EjxvUIr+qyJK9bUIt754jw8sDnm8Ai0rz7ZZI7r/UgLtn/wAymdUtf8w6tRg4VG0evcsrH+UXTJoDgQQjHzldP40xC3WWWVNpn8AcjkB7oi1PhF20DQCRwNd9/K6pONAfEv8MGp5v8zobX5R2mv8kKMF6wkQFqEqpXYg==',\n",
    "    'seqnum': '31',\n",
    "    'bm_sv': '7A3CE528852BB1C292ED47C9E55F104B~D8d/rgKBtwaxuVdS+eYKZDbPjMyc63AJD2SZyAKR/arJDUs02j+QnPev3Jg5tP1QoTyIXmnZ9RKG05may2whKNyTv1M7ESU/7z18A5mYJJwYmOdydkMTm0xlfi6OKaBK88E0n6N32mJOqBOpdNJhBK/V127eb9VBjTyL4VXE6xI=',\n",
    "    's_gnr': '1651684496035-Repeat',\n",
    "}\n",
    "\n",
    "headers = {\n",
    "    'authority': 'www.walmart.ca',\n",
    "    'accept': 'application/json',\n",
    "    'accept-language': 'es-419,es-US;q=0.9,es;q=0.8,en;q=0.7,gl;q=0.6,en-US;q=0.5',\n",
    "    # Already added when you pass json=\n",
    "    # 'content-type': 'application/json',\n",
    "    # Requests sorts cookies= alphabetically\n",
    "    # 'cookie': 'walmart.shippingPostalCode=L5V2N6; defaultNearestStoreId=1061; localStoreInfo=eyJsb2NhbFN0b3JlSWQiOiIxMDYxIiwic2VsZWN0ZWRTdG9yZUlkIjoiMTA2MSIsInBvc3RhbENvZGUiOiJMNVYyTjYiLCJzZWxlY3RlZFN0b3JlTmFtZSI6IkhlYXJ0bGFuZCBTdXBlcmNlbnRyZSIsImZ1bGZpbGxtZW50U3RvcmVJZCI6IjEwNjEiLCJmdWxmaWxsbWVudFR5cGUiOiJJTlNUT1JFX1BJQ0tVUCIsImFzc2lnbmVkRmFsbGJhY2siOnRydWV9; walmart.preferredstore=1061; walmart.csrf=cbcc9d325ff732e2b7df9615; vtc=Sc7KhvDu8dXdQ3oJ8gMfS0; userSegment=10-percent; wmt.breakpoint=d; TBV=7; walmart.nearestPostalCode=L5V2N6; walmart.nearestLatLng=\"43.60822,-79.69387\"; walmart.id=0ac0c397-31a7-41fc-8cc1-2cb9501b6d86; _pxvid=57da3f51-c623-11ec-b6db-475571737755; pxcts=57da4b68-c623-11ec-b6db-475571737755; _scid=12572b22-c759-44f3-84fd-1cd7964530bb; _ga=GA1.2.1086732282.1651061563; _gcl_au=1.1.309908354.1651061563; _cs_c=1; AMCVS_C4C6370453309C960A490D44%40AdobeOrg=1; _4c_=%7B%22_4c_mc_%22%3A%223a90c448-09bf-490f-a379-473fd3850988%22%7D; s_ecid=MCMID%7C41897018265937067883377010096261524000; DYN_USER_ID=876a9ee5-90f4-40b0-809f-80486072a7ee; WM_SEC.AUTH_TOKEN=MTAyOTYyMDE4Qua7AZDVOvbhshC3awCcSlbdWaRvXq27+TXXJ/f+/lExaU+v5FSLdiOIGqK0a4wmqq2LJxF/luNp81CV3+r2j32U+wKMLX3BeFje/9hJnLWY82aSwEYhoA9Ft6jsYJZOj8OFN4dileb20bpDLeCIlSFd/Hsc7bnSe4+TLU2zbj3NXZI73M3Oydez6OlOjKQrB5QecGUpZU5IZRQ4WKMegVWsv0pzJjLdDAyIHKVC8uDb/SoGFgAYL9DGZ8K45WCXM/FHGZ2dCNmxWrdkwqEKrkzFXeKGmCkxmcFHdtahqoPFmQYT+vNNSM8yfVCDe8JEX0dK7v1Lg3o1RfFrgZKt2yKphzk8+BlJ4f9+hOEI9INN9Qz5fL1ClvEPI6AGRCS1rkyb7DnHViveZvNVhWPTa0r1eX9YGQ0laieVMoEr348=; LT=1651061564765; DYN_USER_ID.ro=876a9ee5-90f4-40b0-809f-80486072a7ee; cartId=4de02953-ceae-420f-bd29-65be72d9e685; s_cc=true; _pin_unauth=dWlkPVpEUmlOR1F6WlRrdFpEVXlPUzAwT0RRMkxUbGxOV1V0WmpkaU1HUTFaR1U0WlRSaw; deliveryCatchment=1061; _cs_cvars=%7B%221%22%3A%5B%22appName%22%2C%22product-page%22%5D%7D; cookiePolicy=true; NEXT_GEN.ENABLED=1; _gid=GA1.2.1903489578.1651498345; TS017d5bf6=01538efd7c9f8ed5c9d2872ab4d5e25f75ed3d54ecbca213ea891bb94d4a938720bcc80c0943f6226b8c8d6931aff97f1be9a8c2bf; TS01170c9f=01538efd7c9f8ed5c9d2872ab4d5e25f75ed3d54ecbca213ea891bb94d4a938720bcc80c0943f6226b8c8d6931aff97f1be9a8c2bf; ENV=ak-scus-t1-prod; xpa=19dFv|1_MKt|3N4Sf|7Xi3l|8C3ux|8PDcT|9noop|D9LOQ|EF9Bs|H33MR|H67lQ|HRTLp|I9Jw3|II82a|IVqRT|IrVZL|JoXRc|KeAz7|LI1tD|LVSOt|MPTAC|MbHLZ|MuE7d|NOaJP|NPyyt|OVStb|P5VeN|Qgnpc|T4DD-|U6IJS|VaEfK|W-D6M|WLR40|bQRVI|cFFZi|htzpo|jeBOs|kueBQ|mOlOu|oxsiU|qN5fi|seHke|t02pM|uihH8|vm9yl|wQ2KF|wlDrJ|yAFBx|zN5PS; exp-ck=19dFv11_MKt67Xi3l18C3ux38PDcT19noop1D9LOQ2EF9Bs1H33MR1H67lQ6I9Jw31II82a5IVqRT1IrVZL1JoXRc1KeAz71LI1tD1MPTACpMbHLZ1MuE7d1NPyyt4OVStb1Qgnpc8T4DD-4U6IJS3VaEfK1htzpo1kueBQ1oxsiU1seHke1t02pM1uihH81vm9yl1wQ2KF1wlDrJ1yAFBx1zN5PS1; bstc=QJvUOhXiZvuIyVEAKc_OJI; ak_bmsc=21A48A0D1CF4FA3226D3F1ADF9AC1CD4~000000000000000000000000000000~YAAQBCj3SEKHZYyAAQAAjfv3jw/6D+HbdJHsvzcqnp1/gQNYuSdFj7RkEW7NjtQua2Ch52OngT4bnkOmuNLrpA2+FcvSqwR9yH//FYUwBA9KWn9E7BjIfLczjvouyvdSALzwOWZwDJN7EJudMvvrZ08JsiTVCxtPcX/Il+sZ8gC61cZxyjspLpn9O6hZDQ9QM4/mzUWGfAM7Uo60E6X/2rQnEivEIBMePCjNGBQ8sOgjuYIn6+QCD7tBbc4hw3wIQNNhxCWs7cCfVAw/jtSdcToyCxtvDx7qFev5l/opgRGdm3aghkqQChPWnywJyJacERoU+RHDEsfUqjp/qqQwHrrpundSCSj/j6KiBf4Ecx7NkePw++vNg/gFvDcQhnB2K0bdnBbivfb9iOc=; xpm=1%2B1651682835%2BSc7KhvDu8dXdQ3oJ8gMfS0~%2B0; _cs_mk_aa=0.2200864858992928_1651682834581; s_visit=1; AMCV_C4C6370453309C960A490D44%40AdobeOrg=-1124106680%7CMCIDTS%7C19117%7CMCMID%7C41897018265937067883377010096261524000%7CMCAAMLH-1652287634%7C4%7CMCAAMB-1652287634%7CRKhpRz8krg2tLO6pguXWp5olkAcUniQYPHaMWWgdJ3xzPWQmdj0y%7CMCOPTOUT-1651690034s%7CNONE%7CMCAID%7CNONE%7CvVersion%7C5.2.0; kndctr_C4C6370453309C960A490D44_AdobeOrg_identity=CiY0MTg5NzAxODI2NTkzNzA2Nzg4MzM3NzAxMDA5NjI2MTUyNDAwMFIOCMjVwNeGMBgBKgNWQTbwAbiD4P-IMA==; wmt.c=0; TS0196c61b=01538efd7ce1993e1993dbc5c29d9a052ccd49bfd719ef5d42a1bcb2633811963357f814c7618acb217ebfb0598bf2c85b2102cc2b; headerType=whiteGM; BVBRANDID=7ea139f1-b1be-41a9-a2cb-2faebff8678b; BVBRANDSID=75c2e89f-2ad6-4e09-a3d5-8cc3b8d9687c; WM.USER_STATE=GUEST|Guest; _gat=1; authDuration={\"lat\":\"1651684477947000\",\"lt\":\"1651684477947000\"}; _cs_id=9f248fb8-533b-ad05-f35a-589a3af5c2ff.1651061563.16.1651684476.1651682834.1.1685225563375; _cs_s=6.0.0.1651686276461; s_sq=%5B%5BB%5D%5D; gpv_Page=Bot%20Protection%20Page; _uetsid=ae54a5a0cbcd11ec84501751fa9005e3; _uetvid=57330360c62311ec959cf77501e77997; cto_bundle=uJzKyF9QTXV4R3pleTdvQnRLaGFMYW9rU1F5Y1RZclcyYTMwUzVMdiUyQmpVV05mJTJGaDdpTEdTTiUyQmo0NDAyJTJGS1J0TlY3WmNXQjc5NG9qSmY3OW5zR0VDdm1Xd2hsJTJCR3k3MkZSQWswVkM4SGM3Qmowb0RvVVZKVXRZUzBlUUZheWk0bkRpRU4yNnglMkYlMkY3RzVyc2RlYTAwYkZlbXQlMkJRJTNEJTNE; _derived_epik=dj0yJnU9d3hiSnZUQnJWTkU2Mzgtck9VdURqdEhkdWFrRy1pMWsmbj1EN05zc25lUmVwOVN6ZWRGNkwybWV3Jm09MSZ0PUFBQUFBR0p5dElFJnJtPTEmcnQ9QUFBQUFHSnl0SUU; _pxff_fp=1; _pxff_rf=1; _sctr=1|1651633200000; _px3=2915811dca89622257af1caa2372b3f64c759d00fda2c5fb5974984b00138991:BWksfaJ3cgTHni2W8stwSEsVYJWcrjpQGzl6KgkkxGmaG9wotRSjCDIUMBVktTctW/KAZsiJBivWdmO7uzS6MA==:1000:X32GQXZrH5vpYEZP+RIqBuIzG+5IMZP3PTJA7pf1+zVdO7qsm2EjxvUIr+qyJK9bUIt754jw8sDnm8Ai0rz7ZZI7r/UgLtn/wAymdUtf8w6tRg4VG0evcsrH+UXTJoDgQQjHzldP40xC3WWWVNpn8AcjkB7oi1PhF20DQCRwNd9/K6pONAfEv8MGp5v8zobX5R2mv8kKMF6wkQFqEqpXYg==; seqnum=31; bm_sv=7A3CE528852BB1C292ED47C9E55F104B~D8d/rgKBtwaxuVdS+eYKZDbPjMyc63AJD2SZyAKR/arJDUs02j+QnPev3Jg5tP1QoTyIXmnZ9RKG05may2whKNyTv1M7ESU/7z18A5mYJJwYmOdydkMTm0xlfi6OKaBK88E0n6N32mJOqBOpdNJhBK/V127eb9VBjTyL4VXE6xI=; s_gnr=1651684496035-Repeat',\n",
    "    'origin': 'https://www.walmart.ca',\n",
    "    'referer': 'https://www.walmart.ca/en/ip/coca-cola-355ml-cans-12-pack/6000016955730',\n",
    "    'sec-ch-ua': '\" Not A;Brand\";v=\"99\", \"Chromium\";v=\"100\", \"Google Chrome\";v=\"100\"',\n",
    "    'sec-ch-ua-mobile': '?0',\n",
    "    'sec-ch-ua-platform': '\"Windows\"',\n",
    "    'sec-fetch-dest': 'empty',\n",
    "    'sec-fetch-mode': 'cors',\n",
    "    'sec-fetch-site': 'same-origin',\n",
    "    'user-agent': 'Mozilla/5.0 (Windows NT 10.0; Win64; x64) AppleWebKit/537.36 (KHTML, like Gecko) Chrome/100.0.4896.127 Safari/537.36',\n",
    "    'wm_qos.correlation_id': '944d735d-027-1809010dcb23e4,944d735d-027-1809010dcb2275,944d735d-027-1809010dcb2275',\n",
    "}\n",
    "\n",
    "json_data = {\n",
    "    'fsa': 'L5V',\n",
    "    'products': [\n",
    "        {\n",
    "            'productId': '6000016955730',\n",
    "            'skuIds': [\n",
    "                '206873',\n",
    "            ],\n",
    "        },\n",
    "    ],\n",
    "    'lang': 'en',\n",
    "    'pricingStoreId': '1061',\n",
    "    'fulfillmentStoreId': '1061',\n",
    "    'experience': 'whiteGM',\n",
    "}\n",
    "\n",
    "response = requests.post('https://www.walmart.ca/api/product-page/v2/price-offer', cookies=cookies, headers=headers, json=json_data)\n",
    "j = json.loads(response.content)\n",
    "price_can = j['offers']['206873']['currentPrice']\n",
    "price_can = float(price_can)\n",
    "price_can"
   ]
  },
  {
   "cell_type": "code",
   "execution_count": 6,
   "id": "203a55fa",
   "metadata": {
    "scrolled": true
   },
   "outputs": [
    {
     "data": {
      "text/plain": [
       "700.0"
      ]
     },
     "execution_count": 6,
     "metadata": {},
     "output_type": "execute_result"
    }
   ],
   "source": [
    "response = requests.get('https://www.jumbo.cl/bebida-coca-cola-lata-350-cc/p', headers = headers)\n",
    "data = html.fromstring(response.content)\n",
    "price_chl = data.xpath('//div[@class=\"product-info-wrapper\"]//span[@class=\"product-sigle-price-wrapper\"]/text()')\n",
    "price_chl = float(price_chl[0].strip('$'))\n",
    "price_chl"
   ]
  },
  {
   "cell_type": "code",
   "execution_count": 8,
   "id": "36b566f9",
   "metadata": {},
   "outputs": [
    {
     "data": {
      "text/plain": [
       "9490.0"
      ]
     },
     "execution_count": 8,
     "metadata": {},
     "output_type": "execute_result"
    }
   ],
   "source": [
    "response = requests.get('https://merqueo.com/api/3.1/stores/63/department/bebidas/shelf/gaseosas/products/gaseosa-coca-cola-sabor-original-x6-unds-235-ml', headers = headers)\n",
    "j = json.loads(response.content)\n",
    "price_col = j['data']['attributes']['price']\n",
    "price_col = float(price_col)\n",
    "price_col"
   ]
  },
  {
   "cell_type": "code",
   "execution_count": 9,
   "id": "84929fa9",
   "metadata": {},
   "outputs": [
    {
     "data": {
      "text/plain": [
       "1.2"
      ]
     },
     "execution_count": 9,
     "metadata": {},
     "output_type": "execute_result"
    }
   ],
   "source": [
    "cookies = {\n",
    "    'PHPSESSID': 'fi60hm2gavp3cg57il8o4nj5t5',\n",
    "    '_gid': 'GA1.2.1209141592.1652314233',\n",
    "    'callbell_uid': 'f0c8e2d0-d187-11ec-b57c-6325c0935be6',\n",
    "    '__lglaw': '2',\n",
    "    'PrestaShop-1c3831f518b458c88f0f85a1e371c9a4': 'def502007866c4f83535c747c40101893ad5c4203e54b306bbb2474f736698461e75867cd24c660ed30848fac7fe675546e57745c7d60d051092229667144801cf4fd844e9010efd8612fb152ab4c4bdd15293fc411ee615f76e19dab8a2274cbdd0c95ada5dbd84553aae5e60fba6674d4b5a1fb16b32397f7d92642c55662aaef700c2a292bb8271801bcc4b9790b376faaba68161b3d402549f5cae66de97bdb7f66757567ddd822e078de19686812b8f5fd165f64fb4018424b07d9b2f25a08a8af1e48cbee7c81ccf',\n",
    "    '_ga_Q2GB98P2RH': 'GS1.1.1652357955.2.1.1652358033.0',\n",
    "    '_ga': 'GA1.1.56064249.1652314233',\n",
    "}\n",
    "\n",
    "headers = {\n",
    "    'authority': 'mallhabana.com',\n",
    "    'accept': 'text/html,application/xhtml+xml,application/xml;q=0.9,image/avif,image/webp,image/apng,*/*;q=0.8,application/signed-exchange;v=b3;q=0.9',\n",
    "    'accept-language': 'es-419,es-US;q=0.9,es;q=0.8,en;q=0.7,gl;q=0.6,en-US;q=0.5',\n",
    "    'cache-control': 'max-age=0',\n",
    "    # Requests sorts cookies= alphabetically\n",
    "    # 'cookie': 'PHPSESSID=fi60hm2gavp3cg57il8o4nj5t5; _gid=GA1.2.1209141592.1652314233; callbell_uid=f0c8e2d0-d187-11ec-b57c-6325c0935be6; __lglaw=2; PrestaShop-1c3831f518b458c88f0f85a1e371c9a4=def502007866c4f83535c747c40101893ad5c4203e54b306bbb2474f736698461e75867cd24c660ed30848fac7fe675546e57745c7d60d051092229667144801cf4fd844e9010efd8612fb152ab4c4bdd15293fc411ee615f76e19dab8a2274cbdd0c95ada5dbd84553aae5e60fba6674d4b5a1fb16b32397f7d92642c55662aaef700c2a292bb8271801bcc4b9790b376faaba68161b3d402549f5cae66de97bdb7f66757567ddd822e078de19686812b8f5fd165f64fb4018424b07d9b2f25a08a8af1e48cbee7c81ccf; _ga_Q2GB98P2RH=GS1.1.1652357955.2.1.1652358033.0; _ga=GA1.1.56064249.1652314233',\n",
    "    'sec-ch-ua': '\" Not A;Brand\";v=\"99\", \"Chromium\";v=\"101\", \"Google Chrome\";v=\"101\"',\n",
    "    'sec-ch-ua-mobile': '?0',\n",
    "    'sec-ch-ua-platform': '\"Windows\"',\n",
    "    'sec-fetch-dest': 'document',\n",
    "    'sec-fetch-mode': 'navigate',\n",
    "    'sec-fetch-site': 'none',\n",
    "    'sec-fetch-user': '?1',\n",
    "    'upgrade-insecure-requests': '1',\n",
    "    'user-agent': 'Mozilla/5.0 (Windows NT 10.0; Win64; x64) AppleWebKit/537.36 (KHTML, like Gecko) Chrome/101.0.4951.64 Safari/537.36',\n",
    "}\n",
    "\n",
    "response = requests.get('https://mallhabana.com/supermercado/39567-coca-cola-lata-355ml.html', cookies=cookies, headers=headers)\n",
    "data = html.fromstring(response.text)\n",
    "price_cub = data.xpath('//div[@class=\"current-price\"]/span/text()')\n",
    "price_cub = float(price_cub[0].strip('\\xa0$').replace(',','.'))\n",
    "price_cub"
   ]
  },
  {
   "cell_type": "code",
   "execution_count": 10,
   "id": "3666a046",
   "metadata": {},
   "outputs": [
    {
     "data": {
      "text/plain": [
       "5.95"
      ]
     },
     "execution_count": 10,
     "metadata": {},
     "output_type": "execute_result"
    }
   ],
   "source": [
    "response = requests.get('https://spinneys-egypt.com/en/products/104946#/', headers = headers)\n",
    "data = html.fromstring(response.content)\n",
    "price_egy = data.xpath('//div[@class=\"form-container row   pt-4 pb-2 w-100 px-6 px-md-3 px-2 deails-wrapp \"]//span[@class=\"colored priceAfter mb-0 mr-2\"]/text()')\n",
    "price_egy = float(price_egy[0].strip('EGP '))\n",
    "price_egy"
   ]
  },
  {
   "cell_type": "code",
   "execution_count": 11,
   "id": "aae6c280",
   "metadata": {},
   "outputs": [],
   "source": [
    "response = requests.get('https://www.ocado.com/products/coca-cola-original-taste-16292011', headers = headers)\n",
    "data = html.fromstring(response.content)\n",
    "price_gbr = data.xpath('//article[@class=\"bop gn-content bop-layout\"]//h2[@class=\"bop-price__current \"]/text()')\n",
    "price_gbr = float(price_gbr[0].strip('p'))\n",
    "price_gbr = price_gbr/100"
   ]
  },
  {
   "cell_type": "code",
   "execution_count": 15,
   "id": "977e5575",
   "metadata": {},
   "outputs": [
    {
     "data": {
      "text/plain": [
       "6.25"
      ]
     },
     "execution_count": 15,
     "metadata": {},
     "output_type": "execute_result"
    }
   ],
   "source": [
    "cookies = {\n",
    "    'incap_ses_1210_441619': '2ofsDrmwynN8dSnUR8nKECvBjGIAAAAA1RigiqVmQeEqw7yuuNNf9A==',\n",
    "    'nlbi_441619': 'r5NqUiYzumAjuZn1ai3WtwAAAACpS4b5r3WQwu/b9Bl4FRZg',\n",
    "    'visid_incap_441619': 's1ELVgJrRqCrpB1tSuXvgEw3aWIAAAAAS0IPAAAAAACAr3qkAbUd/KrNHcK7e6mkDInLSi9cHcDA',\n",
    "    'nlbi_2237321': 'jJ7ZPXage2wCHWrCyIr6UwAAAAD4f490Dg47WmBx+vDYUc6O',\n",
    "    'visid_incap_2237321': 'e/Ghw+ZaQXWyr7dWngmlJC/BjGIAAAAAQUIPAAAAAADdOiQ+A8yQSDExP6WUB8xq',\n",
    "    'incap_ses_1210_2237321': '688oAwmPX1W5oCnUR8nKEC/BjGIAAAAAxTgddl28wu/fAiqbQzmR/A==',\n",
    "    'tc_ab': '0',\n",
    "    'QueueITAccepted-SDFrts345E-V3_prodevent': 'EventId%3Dprodevent%26QueueId%3D0378d0ca-32c2-4f27-8b2b-f6181a5e3532%26RedirectType%3Dsafetynet%26IssueTime%3D1653391664%26Hash%3D08884463624ad04d9f766d687c59e4b22439a89e2c3017c4f6c8c2c9415c7525',\n",
    "    'FRONTONE_SESSID': 'iae8t62e5dol6rlkh2s8ubopjr',\n",
    "    'FRONTONE_USER': '1655983665',\n",
    "    'FRONTONE_SESSION_ID': 'dbc9f8edc31927b7a56defbf9dadfb52aab53c68',\n",
    "    'aaaaaaaaa944fac35b02f4d9a99619247b88ad463_cs_nt': 'YWYzOTcxY2EtMDA1NS00ZWQ5LWJjYTgtY2RjN2NjYTQ0ZTcw',\n",
    "    'OptanonAlertBoxClosed': '2022-05-24T11:27:48.653Z',\n",
    "    'eupubconsent-v2': 'CPZf4voPZf4voAcABBENCQCgAAAAAAAAAChQAAAAAAAA.YAAAAAAAAAAA',\n",
    "    'OneTrustGroupsConsent': '%2CC0048%2CC0001%2C',\n",
    "    'pageCounterCrfOne': '3',\n",
    "    'OptanonConsent': 'isIABGlobal=false&datestamp=Tue+May+24+2022+08%3A28%3A01+GMT-0300+(Argentina+Standard+Time)&version=6.12.0&hosts=&consentId=97353de3-9814-4e84-824f-34a9cf6a532e&interactionCount=1&landingPath=NotLandingPage&groups=C0048%3A1%2CC0001%3A1%2CC0040%3A0%2CC0032%3A0%2CC0025%3A0%2CC0020%3A0%2CC0037%3A0%2CC0039%3A0%2CC0036%3A0%2CC0041%3A0%2CC0042%3A0%2CC0044%3A0%2CC0043%3A0%2CC0045%3A0%2CC0046%3A0%2CC0049%3A0%2CC0050%3A0%2CC0047%3A0%2CC0023%3A0%2CC0056%3A0%2CC0065%3A0%2CC0137%3A0%2CC0038%3A0%2CC0082%3A0%2CC0021%3A0%2CC0026%3A0%2CC0174%3A0%2CC0177%3A0%2CC0113%3A0%2CC0002%3A0%2CC0089%3A0%2CC0092%3A0%2CC0004%3A0%2CC0022%3A0%2CC0054%3A0%2CC0146%3A0%2CC0052%3A0%2CC0035%3A0%2CC0034%3A0%2CC0063%3A0%2CC0157%3A0%2CC0003%3A0%2CC0051%3A0%2CC0136%3A0%2CC0135%3A0%2CC0007%3A0%2CSTACK1%3A0%2CSTACK42%3A0&geolocation=AR%3BS&AwaitingReconsent=false',\n",
    "    'sap-closed': '1',\n",
    "    'datadome': 'Sebl.mkN5p7KsL65TY9p2rIjwu-ceoL~1WFc.uf-uXsjUuyFQptXzfoZNN86_BEA_6VlU7V-M3y5fLZLd84Cii6-NHPXDfgmyH3lxpbMtnq4L-ykt6rv91gD_-ad~_E',\n",
    "}\n",
    "\n",
    "headers = {\n",
    "    'authority': 'www.carrefour.fr',\n",
    "    'accept': 'text/html,application/xhtml+xml,application/xml;q=0.9,image/avif,image/webp,image/apng,*/*;q=0.8,application/signed-exchange;v=b3;q=0.9',\n",
    "    'accept-language': 'es-419,es-US;q=0.9,es;q=0.8,en;q=0.7,gl;q=0.6,en-US;q=0.5',\n",
    "    'cache-control': 'max-age=0',\n",
    "    # Requests sorts cookies= alphabetically\n",
    "    # 'cookie': 'incap_ses_1210_441619=2ofsDrmwynN8dSnUR8nKECvBjGIAAAAA1RigiqVmQeEqw7yuuNNf9A==; nlbi_441619=r5NqUiYzumAjuZn1ai3WtwAAAACpS4b5r3WQwu/b9Bl4FRZg; visid_incap_441619=s1ELVgJrRqCrpB1tSuXvgEw3aWIAAAAAS0IPAAAAAACAr3qkAbUd/KrNHcK7e6mkDInLSi9cHcDA; nlbi_2237321=jJ7ZPXage2wCHWrCyIr6UwAAAAD4f490Dg47WmBx+vDYUc6O; visid_incap_2237321=e/Ghw+ZaQXWyr7dWngmlJC/BjGIAAAAAQUIPAAAAAADdOiQ+A8yQSDExP6WUB8xq; incap_ses_1210_2237321=688oAwmPX1W5oCnUR8nKEC/BjGIAAAAAxTgddl28wu/fAiqbQzmR/A==; tc_ab=0; QueueITAccepted-SDFrts345E-V3_prodevent=EventId%3Dprodevent%26QueueId%3D0378d0ca-32c2-4f27-8b2b-f6181a5e3532%26RedirectType%3Dsafetynet%26IssueTime%3D1653391664%26Hash%3D08884463624ad04d9f766d687c59e4b22439a89e2c3017c4f6c8c2c9415c7525; FRONTONE_SESSID=iae8t62e5dol6rlkh2s8ubopjr; FRONTONE_USER=1655983665; FRONTONE_SESSION_ID=dbc9f8edc31927b7a56defbf9dadfb52aab53c68; aaaaaaaaa944fac35b02f4d9a99619247b88ad463_cs_nt=YWYzOTcxY2EtMDA1NS00ZWQ5LWJjYTgtY2RjN2NjYTQ0ZTcw; OptanonAlertBoxClosed=2022-05-24T11:27:48.653Z; eupubconsent-v2=CPZf4voPZf4voAcABBENCQCgAAAAAAAAAChQAAAAAAAA.YAAAAAAAAAAA; OneTrustGroupsConsent=%2CC0048%2CC0001%2C; pageCounterCrfOne=3; OptanonConsent=isIABGlobal=false&datestamp=Tue+May+24+2022+08%3A28%3A01+GMT-0300+(Argentina+Standard+Time)&version=6.12.0&hosts=&consentId=97353de3-9814-4e84-824f-34a9cf6a532e&interactionCount=1&landingPath=NotLandingPage&groups=C0048%3A1%2CC0001%3A1%2CC0040%3A0%2CC0032%3A0%2CC0025%3A0%2CC0020%3A0%2CC0037%3A0%2CC0039%3A0%2CC0036%3A0%2CC0041%3A0%2CC0042%3A0%2CC0044%3A0%2CC0043%3A0%2CC0045%3A0%2CC0046%3A0%2CC0049%3A0%2CC0050%3A0%2CC0047%3A0%2CC0023%3A0%2CC0056%3A0%2CC0065%3A0%2CC0137%3A0%2CC0038%3A0%2CC0082%3A0%2CC0021%3A0%2CC0026%3A0%2CC0174%3A0%2CC0177%3A0%2CC0113%3A0%2CC0002%3A0%2CC0089%3A0%2CC0092%3A0%2CC0004%3A0%2CC0022%3A0%2CC0054%3A0%2CC0146%3A0%2CC0052%3A0%2CC0035%3A0%2CC0034%3A0%2CC0063%3A0%2CC0157%3A0%2CC0003%3A0%2CC0051%3A0%2CC0136%3A0%2CC0135%3A0%2CC0007%3A0%2CSTACK1%3A0%2CSTACK42%3A0&geolocation=AR%3BS&AwaitingReconsent=false; sap-closed=1; datadome=Sebl.mkN5p7KsL65TY9p2rIjwu-ceoL~1WFc.uf-uXsjUuyFQptXzfoZNN86_BEA_6VlU7V-M3y5fLZLd84Cii6-NHPXDfgmyH3lxpbMtnq4L-ykt6rv91gD_-ad~_E',\n",
    "    'referer': 'https://www.carrefour.fr/p/soda-coca-cola-5449000296085',\n",
    "    'sec-ch-device-memory': '8',\n",
    "    'sec-ch-ua': '\" Not A;Brand\";v=\"99\", \"Chromium\";v=\"101\", \"Google Chrome\";v=\"101\"',\n",
    "    'sec-ch-ua-arch': '\"x86\"',\n",
    "    'sec-ch-ua-full-version-list': '\" Not A;Brand\";v=\"99.0.0.0\", \"Chromium\";v=\"101.0.4951.64\", \"Google Chrome\";v=\"101.0.4951.64\"',\n",
    "    'sec-ch-ua-mobile': '?0',\n",
    "    'sec-ch-ua-model': '\"\"',\n",
    "    'sec-ch-ua-platform': '\"Linux\"',\n",
    "    'sec-fetch-dest': 'document',\n",
    "    'sec-fetch-mode': 'navigate',\n",
    "    'sec-fetch-site': 'same-origin',\n",
    "    'sec-fetch-user': '?1',\n",
    "    'service-worker-navigation-preload': 'true',\n",
    "    'upgrade-insecure-requests': '1',\n",
    "    'user-agent': 'Mozilla/5.0 (X11; Linux x86_64) AppleWebKit/537.36 (KHTML, like Gecko) Chrome/101.0.4951.64 Safari/537.36',\n",
    "}\n",
    "\n",
    "response = requests.get('https://www.carrefour.fr/p/soda-coca-cola-5449000296085', cookies=cookies, headers=headers)\n",
    "data = html.fromstring(response.content)\n",
    "price_fra = data.xpath('//div[@class=\"main-details__pricing\"]//span[@class=\"ds-title ds-title--m product-card-price__price--final\"]/text()')\n",
    "price_fra = float(price_fra[0].strip('€\\n ').replace(',', '.'))\n",
    "price_fra"
   ]
  },
  {
   "cell_type": "code",
   "execution_count": 69,
   "id": "95ed82ae",
   "metadata": {},
   "outputs": [
    {
     "data": {
      "text/plain": [
       "29.59"
      ]
     },
     "execution_count": 69,
     "metadata": {},
     "output_type": "execute_result"
    }
   ],
   "source": [
    "response = requests.get('https://www.kaufland.de/product/146450011/', headers=headers)\n",
    "price_ger = re.search('class=\"rd-price-information__price\">\\n (.*?) €\\n        </span> ', response.text).group(1)\n",
    "price_ger = float(price_ger.strip(' ').replace(',','.'))\n",
    "price_ger"
   ]
  },
  {
   "cell_type": "code",
   "execution_count": 30,
   "id": "7beea19b",
   "metadata": {},
   "outputs": [
    {
     "data": {
      "text/plain": [
       "8.24"
      ]
     },
     "execution_count": 30,
     "metadata": {},
     "output_type": "execute_result"
    }
   ],
   "source": [
    "response = requests.get('https://www.jumbo.com/producten/coca-cola-original-taste-12-x-330ml-473149PAK', headers = headers)\n",
    "data = html.fromstring(response.content)\n",
    "price_deu = data.xpath('//div[@class=\"jum-panel my product-panel accent-bottom\"]//div[@class=\"current-price\"]//text()')\n",
    "price_deu = float(price_deu[0]+'.'+price_deu[-1])\n",
    "price_deu"
   ]
  },
  {
   "cell_type": "code",
   "execution_count": 29,
   "id": "2a911e97",
   "metadata": {},
   "outputs": [
    {
     "data": {
      "text/plain": [
       "2.85"
      ]
     },
     "execution_count": 29,
     "metadata": {},
     "output_type": "execute_result"
    }
   ],
   "source": [
    "response = requests.get('https://www.carrefour.it/p/coca-cola-original-taste-330ml-x-4--lattina-/5449000220288.html', headers = headers)\n",
    "data = html.fromstring(response.content)\n",
    "price_ita = data.xpath('//div[@class=\"product-main\"]//span[@class=\"value \"]/text()')\n",
    "price_ita = float(price_ita[0].strip('\\n€ ').replace(',', '.'))\n",
    "price_ita"
   ]
  },
  {
   "cell_type": "code",
   "execution_count": 28,
   "id": "0728fd10",
   "metadata": {},
   "outputs": [
    {
     "data": {
      "text/plain": [
       "2000.0"
      ]
     },
     "execution_count": 28,
     "metadata": {},
     "output_type": "execute_result"
    }
   ],
   "source": [
    "response = requests.get('https://supermarche.mg/produit/coca-cola-35-cl-boisson-fraiche-bouteille-en-pet-recyclable/', headers = headers)\n",
    "data = html.fromstring(response.content)\n",
    "price_mdg = data.xpath('//div[@class=\"summary entry-summary \"]//span[@class=\"woocs_price_code\"]/span[@class=\"woocommerce-Price-amount amount\"]/bdi/text()')\n",
    "price_mdg = float(price_mdg[0].rstrip('\\xa0 ').replace(' ', ''))\n",
    "price_mdg"
   ]
  },
  {
   "cell_type": "code",
   "execution_count": 27,
   "id": "375cb720",
   "metadata": {},
   "outputs": [
    {
     "data": {
      "text/plain": [
       "84.5"
      ]
     },
     "execution_count": 27,
     "metadata": {},
     "output_type": "execute_result"
    }
   ],
   "source": [
    "cookies = {\n",
    "    'wmt.c': '0',\n",
    "    'TS01f4281b': '01c5a4e2f93349a76911de0b9457fce708de09c1efb5ae41dc5ef2bf18dfcb7c39885e0bfdbfb028ec45503e83025a6661614553ce',\n",
    "    'TS011b2aee': '01c5a4e2f93349a76911de0b9457fce708de09c1efb5ae41dc5ef2bf18dfcb7c39885e0bfdbfb028ec45503e83025a6661614553ce',\n",
    "    'pxcts': 'f6bb9d39-cc09-11ec-8166-485966556a7a',\n",
    "    '_pxvid': 'f6bb8f51-cc09-11ec-8166-485966556a7a',\n",
    "    '_gaexp': 'GAX1.3.0umgeg6CRnuGyAFPHn6kWg.19134.2',\n",
    "    'V3_REQUEST': 'true',\n",
    "    '_gcl_au': '1.1.872318211.1651710371',\n",
    "    'session_dc_qv': '1',\n",
    "    'firstSeen': '1651710371215',\n",
    "    '_ga': 'GA1.4.532239647.1651710371',\n",
    "    '_gid': 'GA1.4.1077953785.1651710371',\n",
    "    '_ga_75FCRZ0K7J': 'GS1.1.1651710371.1.0.1651710371.60',\n",
    "    '_ga_WS0K13T3SJ': 'GS1.1.1651710371.1.0.1651710371.60',\n",
    "    '_ga_5P136S0ZMZ': 'GS1.1.1651710371.1.0.1651710371.60',\n",
    "    '_dc_gtm_UA-49859969-1': '1',\n",
    "    '_ga': 'GA1.3.532239647.1651710371',\n",
    "    '_gid': 'GA1.3.1077953785.1651710371',\n",
    "    '_gat_UA-49859969-1': '1',\n",
    "    '_uetsid': 'f71de140cc0911ec96a6af8ca3fbc62d',\n",
    "    '_uetvid': 'f71e0f60cc0911ec9616f1500f89d166',\n",
    "    'JSESSIONID_GR': 'kuWVCIP8waFpfPKorS+Fa6mr.restapp-267254202-2-1146110789',\n",
    "    'NSC_mc-267254202-1-1146110825': 'ffffffff09ebe2b445525d5f4f58455e445a4a4229a0',\n",
    "    'crto_is_user_optout': 'false',\n",
    "    'FPLC': 'UjMYcao9HhGPxxDyyh8RTb67J8j6obxTa5%2B4HOYHEw4UQwUm0XYfEPncrJf0ved2nQveTERLxZO9Bs3%2FPi13aRmJqdonBR2NVmECgt6RD10Sv68Xox%2Bt%2BOGXZ%2FOeZQ%3D%3D',\n",
    "    'FPID': 'FPID2.3.8q7qbdKyvs%2Bj%2BMGd5htVsv2ihqUrJg4hARSPYS7PZpk%3D.1651710371',\n",
    "    '_px3': '9100eb90b0a988a71eec72d0d5e97f8b6a468d621154e0b883d7719091337c73:s78YqKewk6/gHkVdzvYyWD1PM6tLU8iyE9Kh72CsIyn9nIg5bmZKhNCU+LiB3DY7qR0Dp3PfnHS7KTB2s9DaDQ==:1000:ZALin+kpjAivMv3sNExFv0YfOtwXJQ93mNmGeGjud5fJa5/LiOvYX+or44cLlD1kRY6EXb2iJwVNSeUsuSqWYHhnu6dyLYiD4LRaIs7raj/wk7FcuakDuFLyZtZCFJ4j1JKWNLp78rTQsc2U485xSkfAtTJniPkBZ8qcryBrobUl+mMjFsWrqNbjUNXoLgMdsbG6TkLrjR3ln7u37AOTGQ==',\n",
    "    'store': '%7B%22zipCode%22%3Anull%2C%22centerPointStoreId%22%3Anull%2C%22accessPointId%22%3Anull%2C%22hasExpressCoverage%22%3A%22true%22%2C%22banner%22%3A%22WM_OD%22%2C%22enableExpress%22%3A%22false%22%2C%22storeName%22%3Anull%2C%22preferredDelivery%22%3A%22hardgoodShippingGroup%22%2C%22cpManagedStartDate%22%3Anull%2C%22storeId%22%3Anull%2C%22isCenterPointStore%22%3A%22false%22%7D',\n",
    "    'akavpau_vp_super': '1651710672~id=1b2d9d83a82291a7d1281e01848af150',\n",
    "}\n",
    "\n",
    "headers = {\n",
    "    'authority': 'super.walmart.com.mx',\n",
    "    'accept': 'application/json',\n",
    "    'accept-language': 'es-419,es;q=0.9',\n",
    "    'banner': 'WM_OD',\n",
    "    'content-type': 'application/json',\n",
    "    # Requests sorts cookies= alphabetically\n",
    "    # 'cookie': 'wmt.c=0; TS01f4281b=01c5a4e2f93349a76911de0b9457fce708de09c1efb5ae41dc5ef2bf18dfcb7c39885e0bfdbfb028ec45503e83025a6661614553ce; TS011b2aee=01c5a4e2f93349a76911de0b9457fce708de09c1efb5ae41dc5ef2bf18dfcb7c39885e0bfdbfb028ec45503e83025a6661614553ce; pxcts=f6bb9d39-cc09-11ec-8166-485966556a7a; _pxvid=f6bb8f51-cc09-11ec-8166-485966556a7a; _gaexp=GAX1.3.0umgeg6CRnuGyAFPHn6kWg.19134.2; V3_REQUEST=true; _gcl_au=1.1.872318211.1651710371; session_dc_qv=1; firstSeen=1651710371215; _ga=GA1.4.532239647.1651710371; _gid=GA1.4.1077953785.1651710371; _ga_75FCRZ0K7J=GS1.1.1651710371.1.0.1651710371.60; _ga_WS0K13T3SJ=GS1.1.1651710371.1.0.1651710371.60; _ga_5P136S0ZMZ=GS1.1.1651710371.1.0.1651710371.60; _dc_gtm_UA-49859969-1=1; _ga=GA1.3.532239647.1651710371; _gid=GA1.3.1077953785.1651710371; _gat_UA-49859969-1=1; _uetsid=f71de140cc0911ec96a6af8ca3fbc62d; _uetvid=f71e0f60cc0911ec9616f1500f89d166; JSESSIONID_GR=kuWVCIP8waFpfPKorS+Fa6mr.restapp-267254202-2-1146110789; NSC_mc-267254202-1-1146110825=ffffffff09ebe2b445525d5f4f58455e445a4a4229a0; crto_is_user_optout=false; FPLC=UjMYcao9HhGPxxDyyh8RTb67J8j6obxTa5%2B4HOYHEw4UQwUm0XYfEPncrJf0ved2nQveTERLxZO9Bs3%2FPi13aRmJqdonBR2NVmECgt6RD10Sv68Xox%2Bt%2BOGXZ%2FOeZQ%3D%3D; FPID=FPID2.3.8q7qbdKyvs%2Bj%2BMGd5htVsv2ihqUrJg4hARSPYS7PZpk%3D.1651710371; _px3=9100eb90b0a988a71eec72d0d5e97f8b6a468d621154e0b883d7719091337c73:s78YqKewk6/gHkVdzvYyWD1PM6tLU8iyE9Kh72CsIyn9nIg5bmZKhNCU+LiB3DY7qR0Dp3PfnHS7KTB2s9DaDQ==:1000:ZALin+kpjAivMv3sNExFv0YfOtwXJQ93mNmGeGjud5fJa5/LiOvYX+or44cLlD1kRY6EXb2iJwVNSeUsuSqWYHhnu6dyLYiD4LRaIs7raj/wk7FcuakDuFLyZtZCFJ4j1JKWNLp78rTQsc2U485xSkfAtTJniPkBZ8qcryBrobUl+mMjFsWrqNbjUNXoLgMdsbG6TkLrjR3ln7u37AOTGQ==; store=%7B%22zipCode%22%3Anull%2C%22centerPointStoreId%22%3Anull%2C%22accessPointId%22%3Anull%2C%22hasExpressCoverage%22%3A%22true%22%2C%22banner%22%3A%22WM_OD%22%2C%22enableExpress%22%3A%22false%22%2C%22storeName%22%3Anull%2C%22preferredDelivery%22%3A%22hardgoodShippingGroup%22%2C%22cpManagedStartDate%22%3Anull%2C%22storeId%22%3Anull%2C%22isCenterPointStore%22%3A%22false%22%7D; akavpau_vp_super=1651710672~id=1b2d9d83a82291a7d1281e01848af150',\n",
    "    'experience': 'isSimplifiedCheckout=true',\n",
    "    'referer': 'https://super.walmart.com.mx/refrescos/refresco-coca-cola-sabor-original-6-latas-de-355-ml-c-u/00750105536533',\n",
    "    'sec-ch-ua': '\" Not A;Brand\";v=\"99\", \"Chromium\";v=\"100\", \"Google Chrome\";v=\"100\"',\n",
    "    'sec-ch-ua-mobile': '?0',\n",
    "    'sec-ch-ua-platform': '\"Windows\"',\n",
    "    'sec-fetch-dest': 'empty',\n",
    "    'sec-fetch-mode': 'cors',\n",
    "    'sec-fetch-site': 'same-origin',\n",
    "    'user-agent': 'Mozilla/5.0 (Windows NT 10.0; Win64; x64) AppleWebKit/537.36 (KHTML, like Gecko) Chrome/100.0.4896.127 Safari/537.36',\n",
    "    'wmx_svc_params': 'channel=4',\n",
    "}\n",
    "\n",
    "params = {\n",
    "    'storeId': '0000009999',\n",
    "    'upc': '00750105536533',\n",
    "    'skuId': '00750105536533',\n",
    "}\n",
    "\n",
    "response = requests.get('https://super.walmart.com.mx/api/rest/model/atg/commerce/catalog/ProductCatalogActor/getSkuSummaryDetails', params=params, cookies=cookies, headers=headers)\n",
    "j = json.loads(response.content)\n",
    "price_mex = j['basePrice']\n",
    "price_mex = float(price_mex)\n",
    "price_mex"
   ]
  },
  {
   "cell_type": "code",
   "execution_count": 26,
   "id": "e4e96422",
   "metadata": {},
   "outputs": [
    {
     "data": {
      "text/plain": [
       "11.5"
      ]
     },
     "execution_count": 26,
     "metadata": {},
     "output_type": "execute_result"
    }
   ],
   "source": [
    "response = requests.get('https://www.mat.se/butik/original-inkl-pant-coca-cola-33cl', headers = headers)\n",
    "data = html.fromstring(response.content)\n",
    "price_swe = data.xpath('//div[@class=\"text_big  \"]/descendant::text()')\n",
    "price_swe = float(price_swe[0]+'.'+price_swe[1].strip('\\n '))\n",
    "price_swe"
   ]
  },
  {
   "cell_type": "code",
   "execution_count": 25,
   "id": "9c52439e",
   "metadata": {},
   "outputs": [
    {
     "data": {
      "text/plain": [
       "8.74"
      ]
     },
     "execution_count": 25,
     "metadata": {},
     "output_type": "execute_result"
    }
   ],
   "source": [
    "response = requests.get('https://superunico.com/product/coca-cola-sabor-original-354-ml-pack-de-12/', headers = headers)\n",
    "data = html.fromstring(response.content)\n",
    "price_pan = data.xpath('//div[@class=\"row product-image-summary-wrap\"]//bdi//text()')\n",
    "price_pan = float(price_pan[-1])\n",
    "price_pan"
   ]
  },
  {
   "cell_type": "code",
   "execution_count": 24,
   "id": "2815f163",
   "metadata": {},
   "outputs": [
    {
     "data": {
      "text/plain": [
       "2.6"
      ]
     },
     "execution_count": 24,
     "metadata": {},
     "output_type": "execute_result"
    }
   ],
   "source": [
    "response = requests.get('https://www.wong.pe/gaseosa-coca-cola-sin-azucar-botella-500-ml-203645/p', headers = headers)\n",
    "data = html.fromstring(response.content)\n",
    "price_per = data.xpath('//strong[@class=\"skuBestPrice\"]/text()')\n",
    "price_per = float(price_per[0].lstrip('S/. '))\n",
    "price_per"
   ]
  },
  {
   "cell_type": "code",
   "execution_count": 23,
   "id": "083b7f9b",
   "metadata": {},
   "outputs": [
    {
     "data": {
      "text/plain": [
       "11.99"
      ]
     },
     "execution_count": 23,
     "metadata": {},
     "output_type": "execute_result"
    }
   ],
   "source": [
    "#This code extract a json through regex from html and get the price \n",
    "response = requests.get('https://www.woolworths.co.za/prod/Food/Beverages-Juices/Sodas/Branded-Soda/Coca-Cola-Original-Soft-Drink-Can-300-ml/_/A-5449000256805', headers = headers)\n",
    "jsondata = re.search('window.__INITIAL_STATE__ = (.*?)</script>', response.text).group(1)\n",
    "jsondata = re.sub(\"window.__INITIAL_STATE__ = \", \"\", jsondata)\n",
    "jsondata = re.sub(\"</script>\", \"\", jsondata)\n",
    "jsondata = json.loads(jsondata)\n",
    "price_zaf = jsondata['pdp']['productPrices']['5449000256805']['plist3620006']['priceMin']\n",
    "price_zaf = float(price_zaf)\n",
    "price_zaf"
   ]
  },
  {
   "cell_type": "code",
   "execution_count": 35,
   "id": "a3f1b625",
   "metadata": {
    "scrolled": true
   },
   "outputs": [
    {
     "data": {
      "text/plain": [
       "3960"
      ]
     },
     "execution_count": 35,
     "metadata": {},
     "output_type": "execute_result"
    }
   ],
   "source": [
    "response = requests.get('https://front.homeplus.co.kr/item/getItemDetail.json?itemNo=132795983&storeType=HYPER')\n",
    "j = json.loads(response.content)\n",
    "price_kor = j['data']['item']['sale']['salePrice']\n",
    "price_kor = float(price_kor)\n",
    "price_kor"
   ]
  },
  {
   "cell_type": "code",
   "execution_count": 21,
   "id": "a3963cb5",
   "metadata": {},
   "outputs": [
    {
     "data": {
      "text/plain": [
       "9.12"
      ]
     },
     "execution_count": 21,
     "metadata": {},
     "output_type": "execute_result"
    }
   ],
   "source": [
    "response = requests.get('https://www.carrefour.es/supermercado/coca-cola-pack-12-latas-33-cl/R-530014303/p?ic_source=portal-y-corporativo&ic_medium=search-empathy&ic_content=ns', headers = headers)\n",
    "data = html.fromstring(response.content)\n",
    "price_esp = data.xpath('//span[@class=\"buybox__price\"]/text()')\n",
    "price_esp = float(price_esp[0].strip(' â\\x82¬\\n ').replace(',', '.'))\n",
    "price_esp"
   ]
  },
  {
   "cell_type": "code",
   "execution_count": 20,
   "id": "a506f317",
   "metadata": {},
   "outputs": [
    {
     "data": {
      "text/plain": [
       "6.18"
      ]
     },
     "execution_count": 20,
     "metadata": {},
     "output_type": "execute_result"
    }
   ],
   "source": [
    "cookies = {\n",
    "    'AID': 'wmlspartner%253D0%253Areflectorid%253D0000000000000000000000%253Alastupd%253D1652204403304',\n",
    "    'auth': 'MTAyOTYyMDE4Sbfbvb7IXqDy%2FiQSOSNKgst6RMOYrdnFykzKVFLs9fNZK0AoMdkLhy%2FddpuKaTg7TuHcjFlfzBoC5d2iP%2FX735uUqRZvZ8YYQqpB1w95JPvLX0to6LHJ1%2FmPrWfXATzL767wuZloTfhm7Wk2KcjygpySosImygUk1x1iKsdnk4%2B9PoypknXSdy9XHpuQXdYPl0pL7E9EcCQMKV0TffM5MzraZbZMJPbw3v8ngA%2B7q2kUMk70P8glgOEpLOprhDfMM%2FFHGZ2dCNmxWrdkwqEKrml4PED1MdH0kcZml08NczolKHP1ZLjmzcbJS%2FbbyPOyTrXTwveACQm4vjOJ6Pg1iAbGS781J3JdCnOWU03qClGlZmrQTmMwMt7EBGedv2C%2B%2Bh1NXnw01WVXd8I%2BkTXNOxAbajmc3a6HQbHZlS9HWyI%3D',\n",
    "    'ACID': '22725b4a-5a27-40e9-a9da-348ef54a20ca',\n",
    "    'hasACID': 'true',\n",
    "    'assortmentStoreId': '3081',\n",
    "    'hasLocData': '1',\n",
    "    'TB_Latency_Tracker_100': '1',\n",
    "    'TB_Navigation_Preload_01': '1',\n",
    "    'TB_SFOU-100': '',\n",
    "    'vtc': 'Q5y17E1b3CINvooXmiiSeg',\n",
    "    'bstc': 'Q5y17E1b3CINvooXmiiSeg',\n",
    "    'mobileweb': '0',\n",
    "    'xpa': '-wnVY|09BXG|4eRz-|9nMgr|AwKk9|BuBBv|DDKfB|HOvMN|IAdUD|IVxOt|JtI10|LTD5Y|N40fH|O-DFO|QnZNm|f4xh6|h5NEY|m3yrk|n_LYh|q30TM|qlyhA|srerY|t4GEh|vvTaq|xR8AV|zCylr|zQjo7',\n",
    "    'exp-ck': '09BXG1BuBBv1HOvMN1IVxOt1JtI101n_LYh1q30TM1qlyhA1vvTaq1zQjo71',\n",
    "    'TS01b0be75': '01538efd7cc2d809cba50bc828b00026e4553915aacaa973a8ff5191b6d6f2f192b07c15bfd638410102347fc05b130c3fa1361a03',\n",
    "    'TS013ed49a': '01538efd7cc2d809cba50bc828b00026e4553915aacaa973a8ff5191b6d6f2f192b07c15bfd638410102347fc05b130c3fa1361a03',\n",
    "    'akavpau_p2': '1652205004~id=041595e94901e39ea67ff797d49ce3e9',\n",
    "    'TBV': '7',\n",
    "    '_astc': '1b9b770daa8805aa7aeef64b3f8eddb5',\n",
    "    'adblocked': 'false',\n",
    "    '_pxvid': '3a2bbdf3-d088-11ec-9caf-475043716348',\n",
    "    'pxcts': '3a2bd0a7-d088-11ec-9caf-475043716348',\n",
    "    'locDataV3': 'eyJpc0RlZmF1bHRlZCI6dHJ1ZSwiaW50ZW50IjoiU0hJUFBJTkciLCJwaWNrdXAiOlt7ImJ1SWQiOiIwIiwibm9kZUlkIjoiMzA4MSIsImRpc3BsYXlOYW1lIjoiU2FjcmFtZW50byBTdXBlcmNlbnRlciIsIm5vZGVUeXBlIjoiU1RPUkUiLCJhZGRyZXNzIjp7InBvc3RhbENvZGUiOiI5NTgyOSIsImFkZHJlc3NMaW5lMSI6Ijg5MTUgR2VyYmVyIFJvYWQiLCJjaXR5IjoiU2FjcmFtZW50byIsInN0YXRlIjoiQ0EiLCJjb3VudHJ5IjoiVVMiLCJwb3N0YWxDb2RlOSI6Ijk1ODI5LTAwMDAifSwiZ2VvUG9pbnQiOnsibGF0aXR1ZGUiOjM4LjQ4MjY3NywibG9uZ2l0dWRlIjotMTIxLjM2OTAyNn0sImlzR2xhc3NFbmFibGVkIjp0cnVlLCJzY2hlZHVsZWRFbmFibGVkIjp0cnVlLCJ1blNjaGVkdWxlZEVuYWJsZWQiOnRydWUsImh1Yk5vZGVJZCI6IjMwODEiLCJzdXBwb3J0ZWRBY2Nlc3NUeXBlcyI6WyJQSUNLVVBfQ1VSQlNJREUiLCJQSUNLVVBfSU5TVE9SRSJdfV0sInNoaXBwaW5nQWRkcmVzcyI6eyJsYXRpdHVkZSI6MzguNDgyNjc3LCJsb25naXR1ZGUiOi0xMjEuMzY5MDI2LCJwb3N0YWxDb2RlIjoiOTU4MjkiLCJjaXR5IjoiU2FjcmFtZW50byIsInN0YXRlIjoiQ0EiLCJjb3VudHJ5Q29kZSI6IlVTIiwibG9jYXRpb25BY2N1cmFjeSI6ImxvdyIsImdpZnRBZGRyZXNzIjpmYWxzZX0sImFzc29ydG1lbnQiOnsibm9kZUlkIjoiMzA4MSIsImRpc3BsYXlOYW1lIjoiU2FjcmFtZW50byBTdXBlcmNlbnRlciIsImFjY2Vzc1BvaW50cyI6bnVsbCwic3VwcG9ydGVkQWNjZXNzVHlwZXMiOltdLCJpbnRlbnQiOiJQSUNLVVAiLCJzY2hlZHVsZUVuYWJsZWQiOmZhbHNlfSwiZGVsaXZlcnkiOnsiYnVJZCI6IjAiLCJub2RlSWQiOiIzMDgxIiwiZGlzcGxheU5hbWUiOiJTYWNyYW1lbnRvIFN1cGVyY2VudGVyIiwibm9kZVR5cGUiOiJTVE9SRSIsImFkZHJlc3MiOnsicG9zdGFsQ29kZSI6Ijk1ODI5IiwiYWRkcmVzc0xpbmUxIjoiODkxNSBHZXJiZXIgUm9hZCIsImNpdHkiOiJTYWNyYW1lbnRvIiwic3RhdGUiOiJDQSIsImNvdW50cnkiOiJVUyIsInBvc3RhbENvZGU5IjoiOTU4MjktMDAwMCJ9LCJnZW9Qb2ludCI6eyJsYXRpdHVkZSI6MzguNDgyNjc3LCJsb25naXR1ZGUiOi0xMjEuMzY5MDI2fSwiaXNHbGFzc0VuYWJsZWQiOnRydWUsInNjaGVkdWxlZEVuYWJsZWQiOnRydWUsInVuU2NoZWR1bGVkRW5hYmxlZCI6dHJ1ZSwiYWNjZXNzUG9pbnRzIjpbeyJhY2Nlc3NUeXBlIjoiREVMSVZFUllfQUREUkVTUyJ9XSwiaHViTm9kZUlkIjoiMzA4MSIsInN1cHBvcnRlZEFjY2Vzc1R5cGVzIjpbIkRFTElWRVJZX0FERFJFU1MiXX0sImluc3RvcmUiOmZhbHNlLCJyZWZyZXNoQXQiOjE2NTIyMjYwMDUxMTcsInZhbGlkYXRlS2V5IjoicHJvZDp2MjoyMjcyNWI0YS01YTI3LTQwZTktYTlkYS0zNDhlZjU0YTIwY2EifQ%3D%3D',\n",
    "    'locGuestData': 'eyJpbnRlbnQiOiJTSElQUElORyIsInN0b3JlSW50ZW50IjoiUElDS1VQIiwibWVyZ2VGbGFnIjpmYWxzZSwiaXNEZWZhdWx0ZWQiOnRydWUsInBpY2t1cCI6eyJub2RlSWQiOiIzMDgxIiwidGltZXN0YW1wIjoxNjUyMjA0NDA1MTA5fSwicG9zdGFsQ29kZSI6eyJ0aW1lc3RhbXAiOjE2NTIyMDQ0MDUxMDksImJhc2UiOiI5NTgyOSJ9LCJ2YWxpZGF0ZUtleSI6InByb2Q6djI6MjI3MjViNGEtNWEyNy00MGU5LWE5ZGEtMzQ4ZWY1NGEyMGNhIn0%3D',\n",
    "    'com.wm.reflector': '\"reflectorid:0000000000000000000000@lastupd:1652204405000@firstcreate:1652204403304\"',\n",
    "    'xpm': '1%2B1652204403%2BQ5y17E1b3CINvooXmiiSeg~%2B0',\n",
    "    'ak_bmsc': '9189EC202B78BC15A8E773E59940FEFF~000000000000000000000000000000~YAAQZSj3SPUkpYuAAQAAzoMOrw9iT+hKeBhkb/sMjxZCR90XVo3fEsbwjFdCBArGPF9DebJa1ALJ0kWjjfZzci/07jpHQnocJeneO+WAi3Cymjri9b+6/pZqTpGTYPwc+oaWnpZCU4ih/bKXHld2wvu5R3iS0Ff9DIAsvWzu6q+iq/XMTFGx5vguVyZ/5dff2V1ZuafwLKf0PamFN3cNI5QqD+xkmQdA11GHqDrz0WSNYW0tv0zrqrtLQNkmi85cSbGxeJm/0dpa/YIIG71LgUalcVqX7bH5XPHnk8ezynrc+wU5vlZr83YyYQzzdNL05eEgD5DK2pCL895wjyDrLM+gytuuaEQZGo895XOT+s6pHGuBPRBgQSvsTG2UqpLMcmQRUQHJDdAlQUo9wl4u9VQmMhWQUK0FuCxoqNqUlD2FZ1VLj5zTlOVnPrQAs+CNMt6QK4040+TxvuHJn6CC9JqK4mF1soAD+erqTHT+fEx6QB8EdgZxl61lIpPf',\n",
    "    'xptwg': '3317328723:5EE5C33DDFD3C0:F6B08C:E95921E4:4BC4FCA0:B720DE89:',\n",
    "    'bm_sv': 'CDF7A8896D12E2B15E1E8B77E8C5ABBB~YAAQZSj3SPskpYuAAQAAD4UOrw+uzs4XtK4gz7GDOfSHov516H9ouoUdKEAHemWCFsyiMSDfWFjEsnOdssJg1XtNvHi5Aiuq/CW5Jghp6ZYb60p4747mQfWkErHd0SpLoWTX6Ks97CHq04KWZl7NHgHCz/BJQXbbikngqlu5F+WU6RAeQyFvx99i7CVkUie9EJ5E7SlxTvLGBgymq0kUTYGUPbb0D1JwpmNQFHffcXFyPXju6srPyGouxfX2iF4VTQ==~1',\n",
    "    '_px3': '9e6acd31876885e48c1666bb1f6f4824c7faf8a929008e7fbd61b709dce43f2d:nQwFnsC86CMjzEFIY4de0/f1XHNAJqocZjAvOAE3k6MB9ZibvjGMTtAIhgJtSbZun62a8fGS82mB+aezpePYAg==:1000:O6ZK1TOnjV4qwS6/f6zOuKgEeHy22G971O44YrXeMirIVhe9ZrnmLjQXD6wgGFDpHnoZ93qNnkcqzMN8W2m7VcfscgrwnmIPMQ3Ud7PB51dAxW3q7kNukw3KcLA13r4p2DKXRFAdgl8p0FL6kml4cwPT5A72jhmQtlzwWFzpV26xJUZaKlO7gCUeX59ejEXymbctdw9RO/oAS8pzNYVdyA==',\n",
    "}\n",
    "\n",
    "headers_w = {\n",
    "    'authority': 'www.walmart.com',\n",
    "    'accept': 'text/html,application/xhtml+xml,application/xml;q=0.9,image/avif,image/webp,image/apng,*/*;q=0.8,application/signed-exchange;v=b3;q=0.9',\n",
    "    'accept-language': 'es-419,es;q=0.9',\n",
    "    'cache-control': 'max-age=0',\n",
    "    # Requests sorts cookies= alphabetically\n",
    "    # 'cookie': 'AID=wmlspartner%253D0%253Areflectorid%253D0000000000000000000000%253Alastupd%253D1652204403304; auth=MTAyOTYyMDE4Sbfbvb7IXqDy%2FiQSOSNKgst6RMOYrdnFykzKVFLs9fNZK0AoMdkLhy%2FddpuKaTg7TuHcjFlfzBoC5d2iP%2FX735uUqRZvZ8YYQqpB1w95JPvLX0to6LHJ1%2FmPrWfXATzL767wuZloTfhm7Wk2KcjygpySosImygUk1x1iKsdnk4%2B9PoypknXSdy9XHpuQXdYPl0pL7E9EcCQMKV0TffM5MzraZbZMJPbw3v8ngA%2B7q2kUMk70P8glgOEpLOprhDfMM%2FFHGZ2dCNmxWrdkwqEKrml4PED1MdH0kcZml08NczolKHP1ZLjmzcbJS%2FbbyPOyTrXTwveACQm4vjOJ6Pg1iAbGS781J3JdCnOWU03qClGlZmrQTmMwMt7EBGedv2C%2B%2Bh1NXnw01WVXd8I%2BkTXNOxAbajmc3a6HQbHZlS9HWyI%3D; ACID=22725b4a-5a27-40e9-a9da-348ef54a20ca; hasACID=true; assortmentStoreId=3081; hasLocData=1; TB_Latency_Tracker_100=1; TB_Navigation_Preload_01=1; TB_SFOU-100=; vtc=Q5y17E1b3CINvooXmiiSeg; bstc=Q5y17E1b3CINvooXmiiSeg; mobileweb=0; xpa=-wnVY|09BXG|4eRz-|9nMgr|AwKk9|BuBBv|DDKfB|HOvMN|IAdUD|IVxOt|JtI10|LTD5Y|N40fH|O-DFO|QnZNm|f4xh6|h5NEY|m3yrk|n_LYh|q30TM|qlyhA|srerY|t4GEh|vvTaq|xR8AV|zCylr|zQjo7; exp-ck=09BXG1BuBBv1HOvMN1IVxOt1JtI101n_LYh1q30TM1qlyhA1vvTaq1zQjo71; TS01b0be75=01538efd7cc2d809cba50bc828b00026e4553915aacaa973a8ff5191b6d6f2f192b07c15bfd638410102347fc05b130c3fa1361a03; TS013ed49a=01538efd7cc2d809cba50bc828b00026e4553915aacaa973a8ff5191b6d6f2f192b07c15bfd638410102347fc05b130c3fa1361a03; akavpau_p2=1652205004~id=041595e94901e39ea67ff797d49ce3e9; TBV=7; _astc=1b9b770daa8805aa7aeef64b3f8eddb5; adblocked=false; _pxvid=3a2bbdf3-d088-11ec-9caf-475043716348; pxcts=3a2bd0a7-d088-11ec-9caf-475043716348; locDataV3=eyJpc0RlZmF1bHRlZCI6dHJ1ZSwiaW50ZW50IjoiU0hJUFBJTkciLCJwaWNrdXAiOlt7ImJ1SWQiOiIwIiwibm9kZUlkIjoiMzA4MSIsImRpc3BsYXlOYW1lIjoiU2FjcmFtZW50byBTdXBlcmNlbnRlciIsIm5vZGVUeXBlIjoiU1RPUkUiLCJhZGRyZXNzIjp7InBvc3RhbENvZGUiOiI5NTgyOSIsImFkZHJlc3NMaW5lMSI6Ijg5MTUgR2VyYmVyIFJvYWQiLCJjaXR5IjoiU2FjcmFtZW50byIsInN0YXRlIjoiQ0EiLCJjb3VudHJ5IjoiVVMiLCJwb3N0YWxDb2RlOSI6Ijk1ODI5LTAwMDAifSwiZ2VvUG9pbnQiOnsibGF0aXR1ZGUiOjM4LjQ4MjY3NywibG9uZ2l0dWRlIjotMTIxLjM2OTAyNn0sImlzR2xhc3NFbmFibGVkIjp0cnVlLCJzY2hlZHVsZWRFbmFibGVkIjp0cnVlLCJ1blNjaGVkdWxlZEVuYWJsZWQiOnRydWUsImh1Yk5vZGVJZCI6IjMwODEiLCJzdXBwb3J0ZWRBY2Nlc3NUeXBlcyI6WyJQSUNLVVBfQ1VSQlNJREUiLCJQSUNLVVBfSU5TVE9SRSJdfV0sInNoaXBwaW5nQWRkcmVzcyI6eyJsYXRpdHVkZSI6MzguNDgyNjc3LCJsb25naXR1ZGUiOi0xMjEuMzY5MDI2LCJwb3N0YWxDb2RlIjoiOTU4MjkiLCJjaXR5IjoiU2FjcmFtZW50byIsInN0YXRlIjoiQ0EiLCJjb3VudHJ5Q29kZSI6IlVTIiwibG9jYXRpb25BY2N1cmFjeSI6ImxvdyIsImdpZnRBZGRyZXNzIjpmYWxzZX0sImFzc29ydG1lbnQiOnsibm9kZUlkIjoiMzA4MSIsImRpc3BsYXlOYW1lIjoiU2FjcmFtZW50byBTdXBlcmNlbnRlciIsImFjY2Vzc1BvaW50cyI6bnVsbCwic3VwcG9ydGVkQWNjZXNzVHlwZXMiOltdLCJpbnRlbnQiOiJQSUNLVVAiLCJzY2hlZHVsZUVuYWJsZWQiOmZhbHNlfSwiZGVsaXZlcnkiOnsiYnVJZCI6IjAiLCJub2RlSWQiOiIzMDgxIiwiZGlzcGxheU5hbWUiOiJTYWNyYW1lbnRvIFN1cGVyY2VudGVyIiwibm9kZVR5cGUiOiJTVE9SRSIsImFkZHJlc3MiOnsicG9zdGFsQ29kZSI6Ijk1ODI5IiwiYWRkcmVzc0xpbmUxIjoiODkxNSBHZXJiZXIgUm9hZCIsImNpdHkiOiJTYWNyYW1lbnRvIiwic3RhdGUiOiJDQSIsImNvdW50cnkiOiJVUyIsInBvc3RhbENvZGU5IjoiOTU4MjktMDAwMCJ9LCJnZW9Qb2ludCI6eyJsYXRpdHVkZSI6MzguNDgyNjc3LCJsb25naXR1ZGUiOi0xMjEuMzY5MDI2fSwiaXNHbGFzc0VuYWJsZWQiOnRydWUsInNjaGVkdWxlZEVuYWJsZWQiOnRydWUsInVuU2NoZWR1bGVkRW5hYmxlZCI6dHJ1ZSwiYWNjZXNzUG9pbnRzIjpbeyJhY2Nlc3NUeXBlIjoiREVMSVZFUllfQUREUkVTUyJ9XSwiaHViTm9kZUlkIjoiMzA4MSIsInN1cHBvcnRlZEFjY2Vzc1R5cGVzIjpbIkRFTElWRVJZX0FERFJFU1MiXX0sImluc3RvcmUiOmZhbHNlLCJyZWZyZXNoQXQiOjE2NTIyMjYwMDUxMTcsInZhbGlkYXRlS2V5IjoicHJvZDp2MjoyMjcyNWI0YS01YTI3LTQwZTktYTlkYS0zNDhlZjU0YTIwY2EifQ%3D%3D; locGuestData=eyJpbnRlbnQiOiJTSElQUElORyIsInN0b3JlSW50ZW50IjoiUElDS1VQIiwibWVyZ2VGbGFnIjpmYWxzZSwiaXNEZWZhdWx0ZWQiOnRydWUsInBpY2t1cCI6eyJub2RlSWQiOiIzMDgxIiwidGltZXN0YW1wIjoxNjUyMjA0NDA1MTA5fSwicG9zdGFsQ29kZSI6eyJ0aW1lc3RhbXAiOjE2NTIyMDQ0MDUxMDksImJhc2UiOiI5NTgyOSJ9LCJ2YWxpZGF0ZUtleSI6InByb2Q6djI6MjI3MjViNGEtNWEyNy00MGU5LWE5ZGEtMzQ4ZWY1NGEyMGNhIn0%3D; com.wm.reflector=\"reflectorid:0000000000000000000000@lastupd:1652204405000@firstcreate:1652204403304\"; xpm=1%2B1652204403%2BQ5y17E1b3CINvooXmiiSeg~%2B0; ak_bmsc=9189EC202B78BC15A8E773E59940FEFF~000000000000000000000000000000~YAAQZSj3SPUkpYuAAQAAzoMOrw9iT+hKeBhkb/sMjxZCR90XVo3fEsbwjFdCBArGPF9DebJa1ALJ0kWjjfZzci/07jpHQnocJeneO+WAi3Cymjri9b+6/pZqTpGTYPwc+oaWnpZCU4ih/bKXHld2wvu5R3iS0Ff9DIAsvWzu6q+iq/XMTFGx5vguVyZ/5dff2V1ZuafwLKf0PamFN3cNI5QqD+xkmQdA11GHqDrz0WSNYW0tv0zrqrtLQNkmi85cSbGxeJm/0dpa/YIIG71LgUalcVqX7bH5XPHnk8ezynrc+wU5vlZr83YyYQzzdNL05eEgD5DK2pCL895wjyDrLM+gytuuaEQZGo895XOT+s6pHGuBPRBgQSvsTG2UqpLMcmQRUQHJDdAlQUo9wl4u9VQmMhWQUK0FuCxoqNqUlD2FZ1VLj5zTlOVnPrQAs+CNMt6QK4040+TxvuHJn6CC9JqK4mF1soAD+erqTHT+fEx6QB8EdgZxl61lIpPf; xptwg=3317328723:5EE5C33DDFD3C0:F6B08C:E95921E4:4BC4FCA0:B720DE89:; bm_sv=CDF7A8896D12E2B15E1E8B77E8C5ABBB~YAAQZSj3SPskpYuAAQAAD4UOrw+uzs4XtK4gz7GDOfSHov516H9ouoUdKEAHemWCFsyiMSDfWFjEsnOdssJg1XtNvHi5Aiuq/CW5Jghp6ZYb60p4747mQfWkErHd0SpLoWTX6Ks97CHq04KWZl7NHgHCz/BJQXbbikngqlu5F+WU6RAeQyFvx99i7CVkUie9EJ5E7SlxTvLGBgymq0kUTYGUPbb0D1JwpmNQFHffcXFyPXju6srPyGouxfX2iF4VTQ==~1; _px3=9e6acd31876885e48c1666bb1f6f4824c7faf8a929008e7fbd61b709dce43f2d:nQwFnsC86CMjzEFIY4de0/f1XHNAJqocZjAvOAE3k6MB9ZibvjGMTtAIhgJtSbZun62a8fGS82mB+aezpePYAg==:1000:O6ZK1TOnjV4qwS6/f6zOuKgEeHy22G971O44YrXeMirIVhe9ZrnmLjQXD6wgGFDpHnoZ93qNnkcqzMN8W2m7VcfscgrwnmIPMQ3Ud7PB51dAxW3q7kNukw3KcLA13r4p2DKXRFAdgl8p0FL6kml4cwPT5A72jhmQtlzwWFzpV26xJUZaKlO7gCUeX59ejEXymbctdw9RO/oAS8pzNYVdyA==',\n",
    "    'sec-ch-ua': '\" Not A;Brand\";v=\"99\", \"Chromium\";v=\"101\", \"Google Chrome\";v=\"101\"',\n",
    "    'sec-ch-ua-mobile': '?0',\n",
    "    'sec-ch-ua-platform': '\"Windows\"',\n",
    "    'sec-fetch-dest': 'document',\n",
    "    'sec-fetch-mode': 'navigate',\n",
    "    'sec-fetch-site': 'same-origin',\n",
    "    'sec-fetch-user': '?1',\n",
    "    'upgrade-insecure-requests': '1',\n",
    "    'user-agent': 'Mozilla/5.0 (Windows NT 10.0; Win64; x64) AppleWebKit/537.36 (KHTML, like Gecko) Chrome/101.0.4951.54 Safari/537.36',\n",
    "}\n",
    "\n",
    "response = requests.get('https://www.walmart.com/ip/Coca-Cola-Original-Soda-Pop-12-Fl-Oz-12-Pack-Cans/12166733', cookies=cookies, headers=headers_w)\n",
    "data_index = re.search(r'\"priceCurrency\":\"USD\",\"price\":', response.text)\n",
    "price_usa = response.text[data_index.end():data_index.end()+4]\n",
    "price_usa = float(price_usa)\n",
    "price_usa"
   ]
  },
  {
   "cell_type": "code",
   "execution_count": 19,
   "id": "5b7fbe3f",
   "metadata": {},
   "outputs": [
    {
     "data": {
      "text/plain": [
       "50.0"
      ]
     },
     "execution_count": 19,
     "metadata": {},
     "output_type": "execute_result"
    }
   ],
   "source": [
    "response = requests.get('https://www.disco.com.uy/buscapagina/?sc=4&cc=4&sm=2&sl=0dff04eb-47b9-473c-ae9a-1cad6ddf439a&PS=1&PageNumber=1&fq=skuId:12263', headers = headers)\n",
    "data = html.fromstring(response.content)\n",
    "price_ury = data.xpath('//div[@class=\"Product-price-alt precio-antes precio-secundario u-hide\"]/text()')\n",
    "price_ury = float(price_ury[0].strip('$U ').replace(',', '.'))\n",
    "price_ury"
   ]
  },
  {
   "cell_type": "code",
   "execution_count": 18,
   "id": "c9bf9945",
   "metadata": {},
   "outputs": [
    {
     "data": {
      "text/plain": [
       "1.94"
      ]
     },
     "execution_count": 18,
     "metadata": {},
     "output_type": "execute_result"
    }
   ],
   "source": [
    "cookies = {\n",
    "    'secure_customer_sig': '',\n",
    "    'localization': 'US',\n",
    "    'cart_currency': 'USD',\n",
    "    '_orig_referrer': 'https%3A%2F%2Fwww.google.com%2F',\n",
    "    '_landing_page': '%2F',\n",
    "    '_y': '752c9fe7-df2e-4028-9a34-13700e83553b',\n",
    "    '_shopify_y': '752c9fe7-df2e-4028-9a34-13700e83553b',\n",
    "    '_ga': 'GA1.2.10109001.1651086002',\n",
    "    'twk_idm_key': 't8_wi-wkl9vozdk_wu-eK',\n",
    "    'uId': 'JU4Y6QN5ZVMUIELTIXYZNAWF',\n",
    "    '_gid': 'GA1.2.1798738916.1652276433',\n",
    "    'sm_popup_show': '2022-05-18T00:00:00',\n",
    "    '_s': '044e9e4e-99db-4c13-98d0-f3fa66c89e83',\n",
    "    '_shopify_s': '044e9e4e-99db-4c13-98d0-f3fa66c89e83',\n",
    "    '_shopify_sa_p': '',\n",
    "    'shopify_pay_redirect': 'pending',\n",
    "    '_shopify_sa_t': '2022-05-11T17%3A33%3A41.822Z',\n",
    "    'TawkConnectionTime': '0',\n",
    "    'twk_uuid_5f03a442760b2b560e6fdb3c': '%7B%22uuid%22%3A%221.62pbt6rLzhgsnpvKDc3qWE9ckuPdXPnhM4vb8isUYkLWDMsJnqM0mf8B4jhC8hIwAfdgxRduOONWL6LF3XqxDhXjyX9PTvQWyaGJJ7UlT7tbBML8WCMZGv1x7pcVMDBrlg7LkgW2pb2BhWOBIn6pQcniLf9%22%2C%22version%22%3A3%2C%22domain%22%3A%22tugentevenezuela.com%22%2C%22ts%22%3A1652290423238%7D',\n",
    "}\n",
    "\n",
    "headers = {\n",
    "    'authority': 'www.tugentevenezuela.com',\n",
    "    'accept': 'text/html,application/xhtml+xml,application/xml;q=0.9,image/avif,image/webp,image/apng,*/*;q=0.8,application/signed-exchange;v=b3;q=0.9',\n",
    "    'accept-language': 'es-419,es-US;q=0.9,es;q=0.8,en;q=0.7,gl;q=0.6,en-US;q=0.5',\n",
    "    'cache-control': 'max-age=0',\n",
    "    # Requests sorts cookies= alphabetically\n",
    "    # 'cookie': 'secure_customer_sig=; localization=US; cart_currency=USD; _orig_referrer=https%3A%2F%2Fwww.google.com%2F; _landing_page=%2F; _y=752c9fe7-df2e-4028-9a34-13700e83553b; _shopify_y=752c9fe7-df2e-4028-9a34-13700e83553b; _ga=GA1.2.10109001.1651086002; twk_idm_key=t8_wi-wkl9vozdk_wu-eK; uId=JU4Y6QN5ZVMUIELTIXYZNAWF; _gid=GA1.2.1798738916.1652276433; sm_popup_show=2022-05-18T00:00:00; _s=044e9e4e-99db-4c13-98d0-f3fa66c89e83; _shopify_s=044e9e4e-99db-4c13-98d0-f3fa66c89e83; _shopify_sa_p=; shopify_pay_redirect=pending; _shopify_sa_t=2022-05-11T17%3A33%3A41.822Z; TawkConnectionTime=0; twk_uuid_5f03a442760b2b560e6fdb3c=%7B%22uuid%22%3A%221.62pbt6rLzhgsnpvKDc3qWE9ckuPdXPnhM4vb8isUYkLWDMsJnqM0mf8B4jhC8hIwAfdgxRduOONWL6LF3XqxDhXjyX9PTvQWyaGJJ7UlT7tbBML8WCMZGv1x7pcVMDBrlg7LkgW2pb2BhWOBIn6pQcniLf9%22%2C%22version%22%3A3%2C%22domain%22%3A%22tugentevenezuela.com%22%2C%22ts%22%3A1652290423238%7D',\n",
    "    'sec-ch-ua': '\" Not A;Brand\";v=\"99\", \"Chromium\";v=\"101\", \"Google Chrome\";v=\"101\"',\n",
    "    'sec-ch-ua-mobile': '?0',\n",
    "    'sec-ch-ua-platform': '\"Windows\"',\n",
    "    'sec-fetch-dest': 'document',\n",
    "    'sec-fetch-mode': 'navigate',\n",
    "    'sec-fetch-site': 'none',\n",
    "    'sec-fetch-user': '?1',\n",
    "    'upgrade-insecure-requests': '1',\n",
    "    'user-agent': 'Mozilla/5.0 (Windows NT 10.0; Win64; x64) AppleWebKit/537.36 (KHTML, like Gecko) Chrome/101.0.4951.54 Safari/537.36',\n",
    "}\n",
    "\n",
    "response = requests.get('https://www.tugentevenezuela.com/products/refresco-de-cola-en-lata-330ml', cookies=cookies, headers=headers)\n",
    "data = html.fromstring(response.content)\n",
    "price_ven = data.xpath('//p[@class=\"product__price product__price--has-policies\"]//span[@class=\"money conversion-bear-money\"]/text()')\n",
    "price_ven = float(price_ven[0].strip('$'))\n",
    "price_ven"
   ]
  },
  {
   "cell_type": "code",
   "execution_count": 17,
   "id": "65f6f466",
   "metadata": {
    "scrolled": true
   },
   "outputs": [
    {
     "data": {
      "text/plain": [
       "78.0"
      ]
     },
     "execution_count": 17,
     "metadata": {},
     "output_type": "execute_result"
    }
   ],
   "source": [
    "response = requests.get('https://sm.rakuten.co.jp/item/4902102137065', headers = headers)\n",
    "data = html.fromstring(response.content)\n",
    "price_jpn = data.xpath('//p[@class=\"product-detail-price\"]/text()')\n",
    "price_jpn = float(price_jpn[0].strip('\\n '))\n",
    "price_jpn"
   ]
  },
  {
   "cell_type": "code",
   "execution_count": 70,
   "id": "5fecbdf3",
   "metadata": {},
   "outputs": [],
   "source": [
    "prices = {\n",
    "'price_arg': price_arg,\n",
    "'price_bra': price_bra,\n",
    "'price_can': price_can,\n",
    "'price_chl': price_chl,\n",
    "'price_col': price_col,\n",
    "'price_cub': price_cub,\n",
    "'price_egy': price_egy,\n",
    "'price_gbr': price_gbr,\n",
    "'price_fra': price_fra,\n",
    "'price_ger': price_ger,\n",
    "'price_deu': price_deu,\n",
    "'price_ita': price_ita,\n",
    "'price_mdg': price_mdg,\n",
    "'price_mex': price_mex,\n",
    "'price_swe': price_swe,\n",
    "'price_pan': price_pan,\n",
    "'price_per': price_per,\n",
    "'price_zaf': price_zaf,\n",
    "'price_kor': price_kor,\n",
    "'price_esp': price_esp,\n",
    "'price_usa': price_usa,\n",
    "'price_ury': price_ury,\n",
    "'price_ven': price_ven,\n",
    "'price_jpn': price_jpn,\n",
    "}"
   ]
  },
  {
   "cell_type": "code",
   "execution_count": 71,
   "id": "d027dee8",
   "metadata": {},
   "outputs": [
    {
     "data": {
      "text/plain": [
       "{'price_arg': 122.0,\n",
       " 'price_bra': 3.45,\n",
       " 'price_can': 5.98,\n",
       " 'price_chl': 700.0,\n",
       " 'price_col': 9490.0,\n",
       " 'price_cub': 1.2,\n",
       " 'price_egy': 5.95,\n",
       " 'price_gbr': 0.5,\n",
       " 'price_fra': 6.25,\n",
       " 'price_ger': 29.59,\n",
       " 'price_deu': 8.24,\n",
       " 'price_ita': 2.85,\n",
       " 'price_mdg': 2000.0,\n",
       " 'price_mex': 84.5,\n",
       " 'price_swe': 11.5,\n",
       " 'price_pan': 8.74,\n",
       " 'price_per': 2.6,\n",
       " 'price_zaf': 11.99,\n",
       " 'price_kor': 3960,\n",
       " 'price_esp': 9.12,\n",
       " 'price_usa': 6.18,\n",
       " 'price_ury': 50.0,\n",
       " 'price_ven': 1.94,\n",
       " 'price_jpn': 78.0}"
      ]
     },
     "execution_count": 71,
     "metadata": {},
     "output_type": "execute_result"
    }
   ],
   "source": [
    "prices"
   ]
  },
  {
   "cell_type": "code",
   "execution_count": 76,
   "id": "5e16ef01",
   "metadata": {},
   "outputs": [],
   "source": [
    "tt = pd.read_csv(\"./countries_with_currency.csv\", encoding = 'cp1252')"
   ]
  },
  {
   "cell_type": "code",
   "execution_count": 78,
   "id": "30881b38",
   "metadata": {},
   "outputs": [],
   "source": [
    "tt['price'] = [value for key, value in prices.items()]"
   ]
  },
  {
   "cell_type": "code",
   "execution_count": 79,
   "id": "30beb936",
   "metadata": {},
   "outputs": [],
   "source": [
    "#using apilayer(https://apilayer.com/marketplace/category/conversion-apis), this code convert the local prices into usd\n",
    "payload = {}\n",
    "headers= {\n",
    "  \"apikey\": \"\"\n",
    "}\n",
    "\n",
    "usd_prices = []\n",
    "\n",
    "for row in tt.itertuples():\n",
    "    url = \"https://api.apilayer.com/exchangerates_data/convert?to=USD&from={}&amount={}\".format(row[3], row[8])\n",
    "    response = requests.get(url, headers=headers, data = payload)\n",
    "    to_usd = response.json()['result']\n",
    "    usd_prices.append(to_usd)\n"
   ]
  },
  {
   "cell_type": "code",
   "execution_count": 80,
   "id": "3809ec08",
   "metadata": {
    "scrolled": true
   },
   "outputs": [],
   "source": [
    "tt['to_usd'] = usd_prices\n",
    "tt['price_per_l'] = 1000*tt['to_usd']/tt['cm3']"
   ]
  },
  {
   "cell_type": "code",
   "execution_count": 82,
   "id": "34e085af",
   "metadata": {
    "scrolled": false
   },
   "outputs": [],
   "source": [
    "url = \"https://api.apilayer.com/exchangerates_data/convert?to=USD&from=ARS&amount=1000\"\n",
    "response = requests.get(url, headers=headers, data = payload)\n",
    "ars_to_usd = response.json()['result']"
   ]
  },
  {
   "cell_type": "code",
   "execution_count": 83,
   "id": "ecbaa08a",
   "metadata": {},
   "outputs": [],
   "source": [
    "a = round((ars_to_usd*1000/tt['price_per_l'])/355, 2)\n",
    "a = a.tolist()"
   ]
  },
  {
   "cell_type": "code",
   "execution_count": 84,
   "id": "44cdef1e",
   "metadata": {},
   "outputs": [
    {
     "data": {
      "text/html": [
       "<div>\n",
       "<style scoped>\n",
       "    .dataframe tbody tr th:only-of-type {\n",
       "        vertical-align: middle;\n",
       "    }\n",
       "\n",
       "    .dataframe tbody tr th {\n",
       "        vertical-align: top;\n",
       "    }\n",
       "\n",
       "    .dataframe thead th {\n",
       "        text-align: right;\n",
       "    }\n",
       "</style>\n",
       "<table border=\"1\" class=\"dataframe\">\n",
       "  <thead>\n",
       "    <tr style=\"text-align: right;\">\n",
       "      <th></th>\n",
       "      <th>country</th>\n",
       "      <th>city</th>\n",
       "      <th>iso_currency</th>\n",
       "      <th>supermarket</th>\n",
       "      <th>link_to_scrap</th>\n",
       "      <th>xpath</th>\n",
       "      <th>cm3</th>\n",
       "      <th>price</th>\n",
       "      <th>to_usd</th>\n",
       "      <th>price_per_l</th>\n",
       "      <th>cans</th>\n",
       "    </tr>\n",
       "  </thead>\n",
       "  <tbody>\n",
       "    <tr>\n",
       "      <th>0</th>\n",
       "      <td>Argentina</td>\n",
       "      <td>Buenos Aires</td>\n",
       "      <td>ARS</td>\n",
       "      <td>WalMart</td>\n",
       "      <td>https://www.masonline.com.ar/gaseosa-coca-cola...</td>\n",
       "      <td>//span[@class=\"vtex-store-components-3-x-selli...</td>\n",
       "      <td>354</td>\n",
       "      <td>122.00</td>\n",
       "      <td>1.026142</td>\n",
       "      <td>2.898706</td>\n",
       "      <td>8.16</td>\n",
       "    </tr>\n",
       "    <tr>\n",
       "      <th>1</th>\n",
       "      <td>Brazil</td>\n",
       "      <td>Brazilia</td>\n",
       "      <td>BRL</td>\n",
       "      <td>ClubeExtra</td>\n",
       "      <td>https://www.clubeextra.com.br/produto/116609/c...</td>\n",
       "      <td>//div[@class=\"current-pricesectionstyles__Curr...</td>\n",
       "      <td>350</td>\n",
       "      <td>3.45</td>\n",
       "      <td>0.720715</td>\n",
       "      <td>2.059186</td>\n",
       "      <td>11.49</td>\n",
       "    </tr>\n",
       "    <tr>\n",
       "      <th>2</th>\n",
       "      <td>Canada</td>\n",
       "      <td>Ottawa</td>\n",
       "      <td>CAD</td>\n",
       "      <td>WalMart</td>\n",
       "      <td>https://www.walmart.ca/en/ip/coca-cola-355ml-c...</td>\n",
       "      <td>//div[@class=\"css-r6pcoo e1906lj52\"]//span[@cl...</td>\n",
       "      <td>4260</td>\n",
       "      <td>5.98</td>\n",
       "      <td>4.672916</td>\n",
       "      <td>1.096929</td>\n",
       "      <td>21.56</td>\n",
       "    </tr>\n",
       "    <tr>\n",
       "      <th>3</th>\n",
       "      <td>Chile</td>\n",
       "      <td>Santiago de Chile</td>\n",
       "      <td>CLP</td>\n",
       "      <td>Jumbo</td>\n",
       "      <td>https://www.jumbo.cl/bebida-coca-cola-lata-350...</td>\n",
       "      <td>//div[@class=\"product-info-wrapper\"]//span[@cl...</td>\n",
       "      <td>350</td>\n",
       "      <td>700.00</td>\n",
       "      <td>0.846300</td>\n",
       "      <td>2.418000</td>\n",
       "      <td>9.78</td>\n",
       "    </tr>\n",
       "    <tr>\n",
       "      <th>4</th>\n",
       "      <td>Colombia</td>\n",
       "      <td>Bogota</td>\n",
       "      <td>COP</td>\n",
       "      <td>Merqueo</td>\n",
       "      <td>https://merqueo.com/bogota/super-ahorro/bebida...</td>\n",
       "      <td>//div[@class=\"mq-product-discounts\"]//p[@class...</td>\n",
       "      <td>1410</td>\n",
       "      <td>9490.00</td>\n",
       "      <td>2.391480</td>\n",
       "      <td>1.696085</td>\n",
       "      <td>13.94</td>\n",
       "    </tr>\n",
       "    <tr>\n",
       "      <th>5</th>\n",
       "      <td>Cuba</td>\n",
       "      <td>La Habana</td>\n",
       "      <td>USD</td>\n",
       "      <td>SuperMarket23</td>\n",
       "      <td>https://www.supermarket23.com/es/producto/103846</td>\n",
       "      <td>//div[@class=\"row\"]//span[@class=\"regular_pric...</td>\n",
       "      <td>355</td>\n",
       "      <td>1.20</td>\n",
       "      <td>1.200000</td>\n",
       "      <td>3.380282</td>\n",
       "      <td>7.00</td>\n",
       "    </tr>\n",
       "    <tr>\n",
       "      <th>6</th>\n",
       "      <td>Egypt</td>\n",
       "      <td>El Cairo</td>\n",
       "      <td>EGP</td>\n",
       "      <td>Spinney</td>\n",
       "      <td>https://spinneys-egypt.com/en/products/104946#/</td>\n",
       "      <td>//div[@class=\"form-container row   pt-4 pb-2 w...</td>\n",
       "      <td>330</td>\n",
       "      <td>5.95</td>\n",
       "      <td>0.321663</td>\n",
       "      <td>0.974736</td>\n",
       "      <td>24.26</td>\n",
       "    </tr>\n",
       "    <tr>\n",
       "      <th>7</th>\n",
       "      <td>England</td>\n",
       "      <td>Londres</td>\n",
       "      <td>GBP</td>\n",
       "      <td>Ocado</td>\n",
       "      <td>https://www.ocado.com/products/coca-cola-origi...</td>\n",
       "      <td>//article[@class=\"bop gn-content bop-layout\"]/...</td>\n",
       "      <td>150</td>\n",
       "      <td>0.50</td>\n",
       "      <td>0.624384</td>\n",
       "      <td>4.162560</td>\n",
       "      <td>5.68</td>\n",
       "    </tr>\n",
       "    <tr>\n",
       "      <th>8</th>\n",
       "      <td>France</td>\n",
       "      <td>Paris</td>\n",
       "      <td>EUR</td>\n",
       "      <td>Carrefour</td>\n",
       "      <td>https://www.carrefour.fr/p/soda-coca-cola-5449...</td>\n",
       "      <td>//div[@class=\"main-details__wrap main-details-...</td>\n",
       "      <td>3960</td>\n",
       "      <td>6.25</td>\n",
       "      <td>6.692294</td>\n",
       "      <td>1.689973</td>\n",
       "      <td>13.99</td>\n",
       "    </tr>\n",
       "    <tr>\n",
       "      <th>9</th>\n",
       "      <td>Germany</td>\n",
       "      <td>Berlin</td>\n",
       "      <td>EUR</td>\n",
       "      <td>Kaufland</td>\n",
       "      <td>https://www.kaufland.de/product/146450011/?id_...</td>\n",
       "      <td>//div[@class=\"rd-sidebar\"]//p[@class=\"rd-price...</td>\n",
       "      <td>7920</td>\n",
       "      <td>29.59</td>\n",
       "      <td>31.683996</td>\n",
       "      <td>4.000505</td>\n",
       "      <td>5.91</td>\n",
       "    </tr>\n",
       "    <tr>\n",
       "      <th>10</th>\n",
       "      <td>Holanda</td>\n",
       "      <td>Amsterdam</td>\n",
       "      <td>EUR</td>\n",
       "      <td>Jumbo</td>\n",
       "      <td>https://www.jumbo.com/producten/coca-cola-orig...</td>\n",
       "      <td>//div[@class=\"jum-panel my product-panel accen...</td>\n",
       "      <td>3960</td>\n",
       "      <td>8.24</td>\n",
       "      <td>8.823120</td>\n",
       "      <td>2.228061</td>\n",
       "      <td>10.61</td>\n",
       "    </tr>\n",
       "    <tr>\n",
       "      <th>11</th>\n",
       "      <td>Italy</td>\n",
       "      <td>Rome</td>\n",
       "      <td>EUR</td>\n",
       "      <td>Carrefour</td>\n",
       "      <td>https://www.carrefour.it/p/coca-cola-original-...</td>\n",
       "      <td>//div[@class=\"product-main\"]//span[@class=\"val...</td>\n",
       "      <td>1320</td>\n",
       "      <td>2.85</td>\n",
       "      <td>3.051686</td>\n",
       "      <td>2.311883</td>\n",
       "      <td>10.23</td>\n",
       "    </tr>\n",
       "    <tr>\n",
       "      <th>12</th>\n",
       "      <td>Madagascar</td>\n",
       "      <td>Antananarivo</td>\n",
       "      <td>MGA</td>\n",
       "      <td>Supermarche</td>\n",
       "      <td>https://supermarche.mg/produit/coca-cola-35-cl...</td>\n",
       "      <td>//div[@class=\"woosb-price\"]//font[@style=\"vert...</td>\n",
       "      <td>350</td>\n",
       "      <td>2000.00</td>\n",
       "      <td>0.494000</td>\n",
       "      <td>1.411429</td>\n",
       "      <td>16.76</td>\n",
       "    </tr>\n",
       "    <tr>\n",
       "      <th>13</th>\n",
       "      <td>Mexico</td>\n",
       "      <td>Mexico City</td>\n",
       "      <td>MXN</td>\n",
       "      <td>Walmart</td>\n",
       "      <td>https://super.walmart.com.mx/refrescos/refresc...</td>\n",
       "      <td>//div[@class=\"main-content_container__iulMq\"]/...</td>\n",
       "      <td>2130</td>\n",
       "      <td>84.50</td>\n",
       "      <td>4.266659</td>\n",
       "      <td>2.003126</td>\n",
       "      <td>11.81</td>\n",
       "    </tr>\n",
       "    <tr>\n",
       "      <th>14</th>\n",
       "      <td>Sweden</td>\n",
       "      <td>Stockholm</td>\n",
       "      <td>SEK</td>\n",
       "      <td>Mat</td>\n",
       "      <td>https://www.mat.se/butik/original-inkl-pant-co...</td>\n",
       "      <td>//div[@class=\"text_big  \"]/descendant::text()</td>\n",
       "      <td>330</td>\n",
       "      <td>11.50</td>\n",
       "      <td>1.173173</td>\n",
       "      <td>3.555070</td>\n",
       "      <td>6.65</td>\n",
       "    </tr>\n",
       "    <tr>\n",
       "      <th>15</th>\n",
       "      <td>PanamÃ¡</td>\n",
       "      <td>PanamÃ¡</td>\n",
       "      <td>PAB</td>\n",
       "      <td>Superunico</td>\n",
       "      <td>https://superunico.com/product/coca-cola-sabor...</td>\n",
       "      <td>//div[@class=\"row product-image-summary-wrap\"]...</td>\n",
       "      <td>4248</td>\n",
       "      <td>8.74</td>\n",
       "      <td>8.735106</td>\n",
       "      <td>2.056287</td>\n",
       "      <td>11.50</td>\n",
       "    </tr>\n",
       "    <tr>\n",
       "      <th>16</th>\n",
       "      <td>Peru</td>\n",
       "      <td>Lima</td>\n",
       "      <td>PEN</td>\n",
       "      <td>Wong</td>\n",
       "      <td>https://www.wong.pe/gaseosa-coca-cola-sin-azuc...</td>\n",
       "      <td>//div[@class=\"product-info\"]//strong[@class=\"s...</td>\n",
       "      <td>500</td>\n",
       "      <td>2.60</td>\n",
       "      <td>0.699226</td>\n",
       "      <td>1.398452</td>\n",
       "      <td>16.91</td>\n",
       "    </tr>\n",
       "    <tr>\n",
       "      <th>17</th>\n",
       "      <td>South Africa</td>\n",
       "      <td>Cape Town</td>\n",
       "      <td>ZAR</td>\n",
       "      <td>Woolworths</td>\n",
       "      <td>https://www.woolworths.co.za/prod/Food/Beverag...</td>\n",
       "      <td>//span[@class=\"price prodï¿½price\"]/text()</td>\n",
       "      <td>300</td>\n",
       "      <td>11.99</td>\n",
       "      <td>0.766389</td>\n",
       "      <td>2.554630</td>\n",
       "      <td>9.26</td>\n",
       "    </tr>\n",
       "    <tr>\n",
       "      <th>18</th>\n",
       "      <td>South Corea</td>\n",
       "      <td>Seoul</td>\n",
       "      <td>KRW</td>\n",
       "      <td>Homeplus</td>\n",
       "      <td>https://front.homeplus.co.kr/item?itemNo=13279...</td>\n",
       "      <td>//em[@class=\"priceValue\"]/text()</td>\n",
       "      <td>1290</td>\n",
       "      <td>3960.00</td>\n",
       "      <td>3.136320</td>\n",
       "      <td>2.431256</td>\n",
       "      <td>9.73</td>\n",
       "    </tr>\n",
       "    <tr>\n",
       "      <th>19</th>\n",
       "      <td>Spain</td>\n",
       "      <td>Madrid</td>\n",
       "      <td>EUR</td>\n",
       "      <td>Carrefour</td>\n",
       "      <td>https://www.carrefour.es/supermercado/coca-col...</td>\n",
       "      <td>//span[@class=\"buybox__price\"]/text()</td>\n",
       "      <td>3960</td>\n",
       "      <td>9.12</td>\n",
       "      <td>9.765395</td>\n",
       "      <td>2.466009</td>\n",
       "      <td>9.59</td>\n",
       "    </tr>\n",
       "    <tr>\n",
       "      <th>20</th>\n",
       "      <td>United States</td>\n",
       "      <td>Washington</td>\n",
       "      <td>USD</td>\n",
       "      <td>Walmart</td>\n",
       "      <td>https://www.walmart.com/ip/Coca-Cola-Original-...</td>\n",
       "      <td>//span[@itemprop=\"price\"]/text()</td>\n",
       "      <td>4260</td>\n",
       "      <td>6.18</td>\n",
       "      <td>6.180000</td>\n",
       "      <td>1.450704</td>\n",
       "      <td>16.30</td>\n",
       "    </tr>\n",
       "    <tr>\n",
       "      <th>21</th>\n",
       "      <td>Uruguay</td>\n",
       "      <td>Montevideo</td>\n",
       "      <td>UYU</td>\n",
       "      <td>Disco</td>\n",
       "      <td>https://www.disco.com.uy/buscapagina/?sc=4&amp;cc=...</td>\n",
       "      <td>//div[@class=\"Product-price-alt precio-antes p...</td>\n",
       "      <td>354</td>\n",
       "      <td>50.00</td>\n",
       "      <td>1.242750</td>\n",
       "      <td>3.510593</td>\n",
       "      <td>6.74</td>\n",
       "    </tr>\n",
       "    <tr>\n",
       "      <th>22</th>\n",
       "      <td>Venezuela</td>\n",
       "      <td>Caracas</td>\n",
       "      <td>USD</td>\n",
       "      <td>Tugentevenezuela</td>\n",
       "      <td>https://www.tugentevenezuela.com/products/refr...</td>\n",
       "      <td>//div[@class=\"product__details grid__item\"]//s...</td>\n",
       "      <td>500</td>\n",
       "      <td>1.94</td>\n",
       "      <td>1.940000</td>\n",
       "      <td>3.880000</td>\n",
       "      <td>6.10</td>\n",
       "    </tr>\n",
       "    <tr>\n",
       "      <th>23</th>\n",
       "      <td>Japan</td>\n",
       "      <td>Tokyo</td>\n",
       "      <td>JPY</td>\n",
       "      <td>Rakuten Seiyu</td>\n",
       "      <td>https://sm.rakuten.co.jp/item/4902102137065</td>\n",
       "      <td>//p[@class=\"product-detail-price\"]/text()</td>\n",
       "      <td>350</td>\n",
       "      <td>78.00</td>\n",
       "      <td>0.612924</td>\n",
       "      <td>1.751211</td>\n",
       "      <td>13.51</td>\n",
       "    </tr>\n",
       "  </tbody>\n",
       "</table>\n",
       "</div>"
      ],
      "text/plain": [
       "          country               city iso_currency       supermarket  \\\n",
       "0       Argentina       Buenos Aires          ARS           WalMart   \n",
       "1          Brazil           Brazilia          BRL        ClubeExtra   \n",
       "2          Canada             Ottawa          CAD           WalMart   \n",
       "3           Chile  Santiago de Chile          CLP             Jumbo   \n",
       "4        Colombia             Bogota          COP           Merqueo   \n",
       "5            Cuba          La Habana          USD     SuperMarket23   \n",
       "6           Egypt           El Cairo          EGP           Spinney   \n",
       "7         England            Londres          GBP             Ocado   \n",
       "8          France              Paris          EUR         Carrefour   \n",
       "9         Germany             Berlin          EUR          Kaufland   \n",
       "10        Holanda          Amsterdam          EUR             Jumbo   \n",
       "11          Italy               Rome          EUR         Carrefour   \n",
       "12     Madagascar       Antananarivo          MGA       Supermarche   \n",
       "13         Mexico        Mexico City          MXN           Walmart   \n",
       "14         Sweden          Stockholm          SEK               Mat   \n",
       "15        PanamÃ¡            PanamÃ¡          PAB        Superunico   \n",
       "16           Peru               Lima          PEN              Wong   \n",
       "17   South Africa          Cape Town          ZAR        Woolworths   \n",
       "18    South Corea              Seoul          KRW          Homeplus   \n",
       "19          Spain             Madrid          EUR         Carrefour   \n",
       "20  United States         Washington          USD           Walmart   \n",
       "21        Uruguay         Montevideo          UYU             Disco   \n",
       "22      Venezuela            Caracas          USD  Tugentevenezuela   \n",
       "23          Japan              Tokyo          JPY     Rakuten Seiyu   \n",
       "\n",
       "                                        link_to_scrap  \\\n",
       "0   https://www.masonline.com.ar/gaseosa-coca-cola...   \n",
       "1   https://www.clubeextra.com.br/produto/116609/c...   \n",
       "2   https://www.walmart.ca/en/ip/coca-cola-355ml-c...   \n",
       "3   https://www.jumbo.cl/bebida-coca-cola-lata-350...   \n",
       "4   https://merqueo.com/bogota/super-ahorro/bebida...   \n",
       "5    https://www.supermarket23.com/es/producto/103846   \n",
       "6     https://spinneys-egypt.com/en/products/104946#/   \n",
       "7   https://www.ocado.com/products/coca-cola-origi...   \n",
       "8   https://www.carrefour.fr/p/soda-coca-cola-5449...   \n",
       "9   https://www.kaufland.de/product/146450011/?id_...   \n",
       "10  https://www.jumbo.com/producten/coca-cola-orig...   \n",
       "11  https://www.carrefour.it/p/coca-cola-original-...   \n",
       "12  https://supermarche.mg/produit/coca-cola-35-cl...   \n",
       "13  https://super.walmart.com.mx/refrescos/refresc...   \n",
       "14  https://www.mat.se/butik/original-inkl-pant-co...   \n",
       "15  https://superunico.com/product/coca-cola-sabor...   \n",
       "16  https://www.wong.pe/gaseosa-coca-cola-sin-azuc...   \n",
       "17  https://www.woolworths.co.za/prod/Food/Beverag...   \n",
       "18  https://front.homeplus.co.kr/item?itemNo=13279...   \n",
       "19  https://www.carrefour.es/supermercado/coca-col...   \n",
       "20  https://www.walmart.com/ip/Coca-Cola-Original-...   \n",
       "21  https://www.disco.com.uy/buscapagina/?sc=4&cc=...   \n",
       "22  https://www.tugentevenezuela.com/products/refr...   \n",
       "23        https://sm.rakuten.co.jp/item/4902102137065   \n",
       "\n",
       "                                                xpath   cm3    price  \\\n",
       "0   //span[@class=\"vtex-store-components-3-x-selli...   354   122.00   \n",
       "1   //div[@class=\"current-pricesectionstyles__Curr...   350     3.45   \n",
       "2   //div[@class=\"css-r6pcoo e1906lj52\"]//span[@cl...  4260     5.98   \n",
       "3   //div[@class=\"product-info-wrapper\"]//span[@cl...   350   700.00   \n",
       "4   //div[@class=\"mq-product-discounts\"]//p[@class...  1410  9490.00   \n",
       "5   //div[@class=\"row\"]//span[@class=\"regular_pric...   355     1.20   \n",
       "6   //div[@class=\"form-container row   pt-4 pb-2 w...   330     5.95   \n",
       "7   //article[@class=\"bop gn-content bop-layout\"]/...   150     0.50   \n",
       "8   //div[@class=\"main-details__wrap main-details-...  3960     6.25   \n",
       "9   //div[@class=\"rd-sidebar\"]//p[@class=\"rd-price...  7920    29.59   \n",
       "10  //div[@class=\"jum-panel my product-panel accen...  3960     8.24   \n",
       "11  //div[@class=\"product-main\"]//span[@class=\"val...  1320     2.85   \n",
       "12  //div[@class=\"woosb-price\"]//font[@style=\"vert...   350  2000.00   \n",
       "13  //div[@class=\"main-content_container__iulMq\"]/...  2130    84.50   \n",
       "14      //div[@class=\"text_big  \"]/descendant::text()   330    11.50   \n",
       "15  //div[@class=\"row product-image-summary-wrap\"]...  4248     8.74   \n",
       "16  //div[@class=\"product-info\"]//strong[@class=\"s...   500     2.60   \n",
       "17         //span[@class=\"price prodï¿½price\"]/text()   300    11.99   \n",
       "18                   //em[@class=\"priceValue\"]/text()  1290  3960.00   \n",
       "19              //span[@class=\"buybox__price\"]/text()  3960     9.12   \n",
       "20                   //span[@itemprop=\"price\"]/text()  4260     6.18   \n",
       "21  //div[@class=\"Product-price-alt precio-antes p...   354    50.00   \n",
       "22  //div[@class=\"product__details grid__item\"]//s...   500     1.94   \n",
       "23          //p[@class=\"product-detail-price\"]/text()   350    78.00   \n",
       "\n",
       "       to_usd  price_per_l   cans  \n",
       "0    1.026142     2.898706   8.16  \n",
       "1    0.720715     2.059186  11.49  \n",
       "2    4.672916     1.096929  21.56  \n",
       "3    0.846300     2.418000   9.78  \n",
       "4    2.391480     1.696085  13.94  \n",
       "5    1.200000     3.380282   7.00  \n",
       "6    0.321663     0.974736  24.26  \n",
       "7    0.624384     4.162560   5.68  \n",
       "8    6.692294     1.689973  13.99  \n",
       "9   31.683996     4.000505   5.91  \n",
       "10   8.823120     2.228061  10.61  \n",
       "11   3.051686     2.311883  10.23  \n",
       "12   0.494000     1.411429  16.76  \n",
       "13   4.266659     2.003126  11.81  \n",
       "14   1.173173     3.555070   6.65  \n",
       "15   8.735106     2.056287  11.50  \n",
       "16   0.699226     1.398452  16.91  \n",
       "17   0.766389     2.554630   9.26  \n",
       "18   3.136320     2.431256   9.73  \n",
       "19   9.765395     2.466009   9.59  \n",
       "20   6.180000     1.450704  16.30  \n",
       "21   1.242750     3.510593   6.74  \n",
       "22   1.940000     3.880000   6.10  \n",
       "23   0.612924     1.751211  13.51  "
      ]
     },
     "execution_count": 84,
     "metadata": {},
     "output_type": "execute_result"
    }
   ],
   "source": [
    "tt['cans'] = a\n",
    "tt"
   ]
  },
  {
   "cell_type": "code",
   "execution_count": 90,
   "id": "a534f291",
   "metadata": {},
   "outputs": [],
   "source": [
    "today = datetime.datetime.now()\n",
    "json_name = today.strftime(\"%d-%m-%y\") + '.csv'\n",
    "folder = \"./saves\"\n",
    "if os.path.exists(folder+'/'+json_name):\n",
    "    pass\n",
    "else:\n",
    "    tt.to_csv(folder+'/'+json_name, encoding = 'cp1252', index=False)\n"
   ]
  }
 ],
 "metadata": {
  "kernelspec": {
   "display_name": "Python 3 (ipykernel)",
   "language": "python",
   "name": "python3"
  },
  "language_info": {
   "codemirror_mode": {
    "name": "ipython",
    "version": 3
   },
   "file_extension": ".py",
   "mimetype": "text/x-python",
   "name": "python",
   "nbconvert_exporter": "python",
   "pygments_lexer": "ipython3",
   "version": "3.9.12"
  }
 },
 "nbformat": 4,
 "nbformat_minor": 5
}
